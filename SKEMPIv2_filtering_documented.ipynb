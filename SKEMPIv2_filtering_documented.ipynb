{
 "cells": [
  {
   "cell_type": "markdown",
   "id": "0b8dac31-df86-4c74-9837-42f0045b103e",
   "metadata": {},
   "source": [
    "# SKEMPI 2.0 benchmark: data filtraton and processing"
   ]
  },
  {
   "cell_type": "code",
   "execution_count": 1,
   "id": "b8f3aae0-7d8f-4e8f-8d89-6bc20a724b42",
   "metadata": {},
   "outputs": [],
   "source": [
    "import pandas as pd\n",
    "import numpy as np\n",
    "from matplotlib import pyplot as plt\n",
    "import re\n",
    "import os\n",
    "import shutil"
   ]
  },
  {
   "cell_type": "code",
   "execution_count": 2,
   "id": "c9bdaaee-44bf-488b-a336-0abb0fa999fd",
   "metadata": {},
   "outputs": [],
   "source": [
    "# Load dataset\n",
    "\n",
    "skempi2 = pd.read_csv('/groups/sbinlab/panf/SKEMPIv2/skempi_v2.csv', sep=';') # 7085 rows"
   ]
  },
  {
   "cell_type": "code",
   "execution_count": 3,
   "id": "014387e4-dee9-46a0-82d0-855612302a75",
   "metadata": {},
   "outputs": [],
   "source": [
    "origianl_skempi_len = len(skempi2)"
   ]
  },
  {
   "cell_type": "code",
   "execution_count": 4,
   "id": "cc1891a4-0101-4ac2-b4bd-9d28eb6bbd27",
   "metadata": {},
   "outputs": [
    {
     "name": "stdout",
     "output_type": "stream",
     "text": [
      "345 unique PDB IDs\n"
     ]
    }
   ],
   "source": [
    "# Get a list of uniqie PDB IDs in the dataset and write it to a file to use with PDB batch_download.sh\n",
    "\n",
    "pdb_list = skempi2['#Pdb'].str.split(\"_\").str[0].unique().tolist()\n",
    "print(f\"{len(pdb_list)} unique PDB IDs\") # 345\n",
    "# with open('pdb_list.txt', 'w') as f:\n",
    "#     for pdb in pdb_list:\n",
    "#         f.write(f\"{pdb},\")"
   ]
  },
  {
   "cell_type": "code",
   "execution_count": 5,
   "id": "ca17b362-e5b2-4fbb-8dee-68df1756b2aa",
   "metadata": {},
   "outputs": [],
   "source": [
    "# Get a separate PDB ID column\n",
    "\n",
    "skempi2['PDB_ID'] = skempi2['#Pdb'].str.split('_').str[0]"
   ]
  },
  {
   "cell_type": "markdown",
   "id": "353225cf-7dad-41ad-b2eb-87336fb50d44",
   "metadata": {},
   "source": [
    "## Step 1: Dropping and counting duplicates"
   ]
  },
  {
   "cell_type": "code",
   "execution_count": 6,
   "id": "f91d7215-0b2d-412a-8446-bdf4b5d36dc2",
   "metadata": {},
   "outputs": [
    {
     "name": "stdout",
     "output_type": "stream",
     "text": [
      "11 entries are duplicated. 10 of them are new for SKEMPI 2.0\n",
      "Dropping the duplicates.\n",
      "New dataset size: 7074\n"
     ]
    }
   ],
   "source": [
    "# Possibly just a mistake? I checked row by row, field by field, and didn't see anything.\n",
    "\n",
    "print(f\"{len(skempi2.loc[skempi2.duplicated()])} entries are duplicated. {len(skempi2.loc[skempi2.duplicated()].loc[skempi2['SKEMPI version']==2])} of them are new for SKEMPI 2.0\")\n",
    "print(\"Dropping the duplicates.\")\n",
    "\n",
    "skempi2.drop_duplicates(inplace=True, ignore_index=True) # 7074 rows (11 duplicated, 10 from SKEMPI 2.0)\n",
    "\n",
    "print(f\"New dataset size: {len(skempi2)}\")"
   ]
  },
  {
   "cell_type": "markdown",
   "id": "9329b75f-7983-4ff7-ad19-52f1ec78a130",
   "metadata": {},
   "source": [
    "## Step 2: Counting cases with unprecise binding affinity values"
   ]
  },
  {
   "cell_type": "code",
   "execution_count": 7,
   "id": "8b75223a-eb3a-42ff-943c-86993eb8d90b",
   "metadata": {},
   "outputs": [
    {
     "name": "stdout",
     "output_type": "stream",
     "text": [
      "Total cases with wild-type and/or mutant complex binding affinity out of detection range: \n",
      "186 (2.63% of the dataset), 47 unique PDB structures \n",
      "\n",
      "Total cases with binding affinities of BOTH WILD TYPE AND MUTANT complexes out of detection range: \n",
      "14, 2 unique PDB structures (4I77, 1CZ8), 1 uniqie methods (SPR) \n",
      "\n",
      "Total cases with binding affinities of WILD TYPE complexes out of detection range: \n",
      "27, 2 unique PDB structures (4I77, 1CZ8), 1 uniqie methods (SPR) \n",
      "\n",
      "Total cases with binding affinities of MUTANT complexes out of detection range: \n",
      "145, 45 unique PDB structures (1SBB, 1JCK, 1AK4, 1AHW, 1VFB, 2WPT, 2JEL, 2OOB, 2A9K, 1REW, 1HE8, 3BN9, 2FTL, 1A22, 1FCC, 3HFM, 1SMF, 1OGA, 2P5E, 2PYE, 3QDJ, 1MI5, 2AK4, 1AO7, 3G6D, 3Q8D, 4B0M, 1BJ1, 1MHP, 1MLC, 3SE3, 3SE4, 4KRL, 4KRO, 4KRP, 4OZG, 4PWX, 2C5D, 4RS1, 1C1Y, 4G0N, 1LFD, 5XCO, 2KSO, 3QIB), 12 uniqie methods (SE, SPR, IASP, FL, SFFL, CSPRIA, ITC, IARA, IAFL, ELISA, SP, KinExA)\n",
      "\n",
      "Those values are parsed by SEKMPI itself as a threshold value, e. g. '>5E-05' becomes 0.00005\n"
     ]
    }
   ],
   "source": [
    "# Counts for cases with binding affinity values defined as smaller/larger then a certain detection threshold\n",
    "\n",
    "out_of_range_total = skempi2.loc[(skempi2['Affinity_mut (M)'].str.startswith(('<',\n",
    "            '>')))|(skempi2['Affinity_wt (M)'].str.startswith(('<', '>')))]\n",
    "\n",
    "out_of_range_wt_mut = skempi2.loc[(skempi2['Affinity_mut (M)'].str.startswith(('<',\n",
    "            '>')))&(skempi2['Affinity_wt (M)'].str.startswith(('<', '>')))]\n",
    "\n",
    "out_of_range_wt = skempi2.loc[(skempi2['Affinity_wt (M)'].str.startswith(('<', '>')))&(~skempi2['Affinity_mut (M)'].str.startswith(('<', '>')))]\n",
    "\n",
    "out_of_range_mut = skempi2.loc[(skempi2['Affinity_mut (M)'].str.startswith(('<', '>')))&(~skempi2['Affinity_wt (M)'].str.startswith(('<', '>')))]\n",
    "\n",
    "print(f\"Total cases with wild-type and/or mutant complex binding affinity out of detection range: \")\n",
    "print(f\"{len(out_of_range_total)} ({round(len(out_of_range_total)/origianl_skempi_len*100, 2)}% of the dataset), {len(out_of_range_total['PDB_ID'].unique())} unique PDB structures \\n\") # 186, 2.63%, 47 \n",
    "\n",
    "print(f\"Total cases with binding affinities of BOTH WILD TYPE AND MUTANT complexes out of detection range: \")\n",
    "print(f\"{len(out_of_range_wt_mut)}, {len(out_of_range_wt_mut['PDB_ID'].unique())} unique PDB structures ({', '.join(out_of_range_wt_mut['PDB_ID'].unique().tolist())}), {len(out_of_range_wt_mut['Method'].unique())} uniqie methods ({', '.join(out_of_range_wt_mut['Method'].unique())}) \\n\") # 14, 2 (4I77, 1CZ8), SPR\n",
    "\n",
    "print(f\"Total cases with binding affinities of WILD TYPE complexes out of detection range: \")\n",
    "print(f\"{len(out_of_range_wt)}, {len(out_of_range_wt['PDB_ID'].unique())} unique PDB structures ({', '.join(out_of_range_wt['PDB_ID'].unique().tolist())}), {len(out_of_range_wt['Method'].unique())} uniqie methods ({', '.join(out_of_range_wt['Method'].unique())}) \\n\") # 27, 2 (4I77, 1CZ8), SPR\n",
    "\n",
    "print(f\"Total cases with binding affinities of MUTANT complexes out of detection range: \")\n",
    "print(f\"{len(out_of_range_mut)}, {len(out_of_range_mut['PDB_ID'].unique())} unique PDB structures ({', '.join(out_of_range_mut['PDB_ID'].unique().tolist())}), {len(out_of_range_mut['Method'].unique())} uniqie methods ({', '.join(out_of_range_mut['Method'].unique())})\") # 145, 45\n",
    "\n",
    "print(\"\\nThose values are parsed by SEKMPI itself as a threshold value, e. g. '>5E-05' becomes 0.00005\")"
   ]
  },
  {
   "cell_type": "code",
   "execution_count": 8,
   "id": "b12d522b-a551-4203-ade1-5e36d823944b",
   "metadata": {},
   "outputs": [],
   "source": [
    "skempi2['no_proper_value'] = False\n",
    "skempi2.loc[(skempi2['Affinity_mut (M)'].str.startswith(('<',\n",
    "            '>')))|(skempi2['Affinity_wt (M)'].str.startswith(('<', '>'))), 'no_proper_value'] = True"
   ]
  },
  {
   "cell_type": "markdown",
   "id": "a203130a-8e82-4263-b096-7d5f3f066898",
   "metadata": {},
   "source": [
    "#### **To Do:** separate \"smaller than\" from \"bigger than\" in a meaning full way (e.g. \"very strong interaction\" vs \"very weak\")"
   ]
  },
  {
   "cell_type": "markdown",
   "id": "8428d4b2-8a21-4314-806f-3b7ce5745a9e",
   "metadata": {},
   "source": [
    "## Step 2: Calculating binding dG of the wild type and mutant complexes from binding affinities, calculating binding ddG, filtering out and solving ddG_bind is NaN cases"
   ]
  },
  {
   "cell_type": "code",
   "execution_count": 9,
   "id": "d6ca20d1-cc1b-4d87-b332-9bd97a1ceb0f",
   "metadata": {},
   "outputs": [],
   "source": [
    "# Using ΔG = R*T*ln(Kd)\n",
    "\n",
    "skempi2['dG_bind_WT'] =  0.001987204 * skempi2['Temperature'].str.extract('(\\d+)'\n",
    "                        ).values.astype(float).reshape(-1) * np.log(skempi2['Affinity_wt_parsed'].values)\n",
    "skempi2['dG_bind_MUT'] = 0.001987204 * skempi2['Temperature'].str.extract('(\\d+)'\n",
    "                        ).values.astype(float).reshape(-1) * np.log(skempi2['Affinity_mut_parsed'].values)\n",
    "skempi2['ddG_bind'] = skempi2['dG_bind_MUT'].values - skempi2['dG_bind_WT'].values"
   ]
  },
  {
   "cell_type": "code",
   "execution_count": 10,
   "id": "1e2e4829-990a-4680-8071-555d72a85c4d",
   "metadata": {},
   "outputs": [
    {
     "name": "stdout",
     "output_type": "stream",
     "text": [
      "Total cases with binding ddG being NaN: 291 (4.11% of the dataset), 76 unique PDB structures)\n",
      "From them:\n",
      "4 do not have a temperature value\n",
      "278 are classified as 'no interaction' for mutant\n",
      "2 are classified as 'no interaction' for wild type\n",
      "7 are classified as 'unfolded mutant'\n",
      "\n",
      "Sanity check: \n",
      "4 + 278 + 2 + 7 = 291\n"
     ]
    }
   ],
   "source": [
    "ddG_bind_na = skempi2.loc[skempi2['ddG_bind'].isna()]\n",
    "\n",
    "print(f\"Total cases with binding ddG being NaN: {len(ddG_bind_na)} ({round(len(ddG_bind_na)/origianl_skempi_len*100, 2)}% of the dataset), {len(ddG_bind_na['#Pdb'].str[0:4].unique())} unique PDB structures)\")\n",
    "print(f\"From them:\")\n",
    "print(f\"{len(skempi2.loc[skempi2['Temperature'].isna()])} do not have a temperature value\")\n",
    "print(f\"{len(skempi2.loc[skempi2['Affinity_mut (M)'].isin(['n.b', 'n.b.'])])} are classified as 'no interaction' for mutant\")\n",
    "print(f\"{len(skempi2.loc[skempi2['Affinity_wt (M)'].isin(['n.b', 'n.b.'])])} are classified as 'no interaction' for wild type\")\n",
    "print(f\"{len(skempi2.loc[skempi2['Affinity_mut (M)']=='unf'])} are classified as 'unfolded mutant'\")\n",
    "\n",
    "print(\"\\nSanity check: \")\n",
    "print(f\"{len(skempi2.loc[skempi2['Temperature'].isna()])} + {len(skempi2.loc[skempi2['Affinity_mut (M)'].isin(['n.b', 'n.b.'])])} + {len(skempi2.loc[skempi2['Affinity_wt (M)'].isin(['n.b', 'n.b.'])])} + {len(skempi2.loc[skempi2['Affinity_mut (M)']=='unf'])} = {len(skempi2.loc[skempi2['Temperature'].isna()]) + len(skempi2.loc[skempi2['Affinity_mut (M)'].isin(['n.b', 'n.b.'])]) + len(skempi2.loc[skempi2['Affinity_wt (M)'].isin(['n.b', 'n.b.'])]) + len(skempi2.loc[skempi2['Affinity_mut (M)']=='unf'])}\")"
   ]
  },
  {
   "cell_type": "markdown",
   "id": "09d7d812-b419-4232-9f30-e5f5423488fc",
   "metadata": {},
   "source": [
    "Keeping the cases with no dG values, dropping the cases without temperature values."
   ]
  },
  {
   "cell_type": "code",
   "execution_count": 11,
   "id": "99dba6c6-5461-4115-833f-dda998abc3f7",
   "metadata": {},
   "outputs": [],
   "source": [
    "# Drop cases without temperature values -- we cannot calculate binding ddGs for that\n",
    "\n",
    "skempi2 = skempi2.loc[~skempi2['Temperature'].isna()].reset_index() # 7070"
   ]
  },
  {
   "cell_type": "code",
   "execution_count": 12,
   "id": "020a87c4-7836-41ae-be6b-9cdb2d59e619",
   "metadata": {},
   "outputs": [],
   "source": [
    "# To keep track of cases without a value for binding affinities -- we might assign them new values for comparison with predictors\n",
    "\n",
    "skempi2.loc[skempi2['Affinity_mut (M)'].isin(['n.b', 'n.b.']), 'no_proper_value'] = True\n",
    "skempi2.loc[skempi2['Affinity_wt (M)'].isin(['n.b', 'n.b.']), 'no_proper_value'] = True\n",
    "skempi2.loc[skempi2['Affinity_mut (M)']=='unf', 'no_proper_value'] = True"
   ]
  },
  {
   "cell_type": "markdown",
   "id": "5bd67089-d88a-4f37-aee8-1b28743b4fca",
   "metadata": {},
   "source": [
    "## Step 3: Filtering out values with disagreeing measurements by multiple methods, calculating the average"
   ]
  },
  {
   "cell_type": "markdown",
   "id": "5c291a60-f0d4-4e83-a087-b64322664849",
   "metadata": {},
   "source": [
    "#### **To Do:** analysis of errors in dG_mut, dG_wt and ddG"
   ]
  },
  {
   "cell_type": "code",
   "execution_count": 13,
   "id": "cbf8a0e0-c670-487e-a720-1d2519178e41",
   "metadata": {},
   "outputs": [],
   "source": [
    "# groups = skempi2[['#Pdb', 'Mutation(s)_PDB', 'dG_bind_MUT', 'dG_bind_WT', 'ddG_bind']].groupby(['#Pdb', 'Mutation(s)_PDB'])\n",
    "# group_mean = groups.mean().reset_index()\n",
    "# group_std = groups.std().reset_index()\n",
    "# group_sizes = groups.size().reset_index()\n",
    "\n",
    "# group_std.loc[(group_std['dG_bind_MUT']>1)|(group_std['dG_bind_WT']>1)]\n",
    "# group_std.loc[((group_std['dG_bind_MUT']>1)|(group_std['dG_bind_WT']>1))&(group_std['ddG_bind']<1)]\n",
    "# group_mean[498:499]\n",
    "# group_sizes.loc[group_sizes[0]>1]"
   ]
  },
  {
   "cell_type": "code",
   "execution_count": 14,
   "id": "e87b151d-99d7-4dae-a859-50c655d9a51f",
   "metadata": {},
   "outputs": [
    {
     "name": "stdout",
     "output_type": "stream",
     "text": [
      "Total measures with multiple methods: 1469 (20.73% of the dataset), 67 unique PDB structures\n",
      "Total cases measured with multiple methods: 596 (8.41% of the dataset), 67 unique PDB structures\n",
      "Number of cases measured with multiple methods with stds > 1: 53 (0.75% of the dataset), 13 unique PDB structures\n",
      "Final dataset size: 6171 cases\n"
     ]
    }
   ],
   "source": [
    "# Group cases by pdbID_Chains and mutations to get the mean and standard deviation of the same mutations (cases) measured with multiple methods\n",
    "\n",
    "groups = skempi2[['#Pdb', 'Mutation(s)_PDB','ddG_bind']].groupby(['#Pdb', 'Mutation(s)_PDB'])\n",
    "group_mean = groups.mean().reset_index()\n",
    "group_std = groups.std().reset_index()\n",
    "means_stds = pd.merge(group_mean, group_std, on=['#Pdb', 'Mutation(s)_PDB'], suffixes=('_mean', '_std'))\n",
    "skempi2_avg = pd.merge(skempi2, means_stds, on=['#Pdb', 'Mutation(s)_PDB'])\n",
    "\n",
    "# To keep track of cases measured with multiple methods\n",
    "skempi2_avg['multiple_measurements'] = False\n",
    "skempi2_avg.loc[~skempi2_avg['ddG_bind_std'].isna(), 'multiple_measurements'] = True\n",
    "\n",
    "print(f\"Total measures with multiple methods: {len(skempi2_avg.loc[~skempi2_avg['ddG_bind_std'].isna()])} ({round(len(skempi2_avg.loc[~skempi2_avg['ddG_bind_std'].isna()])/origianl_skempi_len*100, 2)}% of the dataset), {len(skempi2_avg.loc[~skempi2_avg['ddG_bind_std'].isna()]['PDB_ID'].unique())} unique PDB structures\")\n",
    "\n",
    "print(f\"Total cases measured with multiple methods: {len(group_std.loc[~group_std['ddG_bind'].isna()])} ({round(len(group_std.loc[~group_std['ddG_bind'].isna()])/origianl_skempi_len*100, 2)}% of the dataset), {len(group_std.loc[~group_std['ddG_bind'].isna()]['#Pdb'].str[0:4].unique())} unique PDB structures\")\n",
    "\n",
    "# If there is only one measurement, std is 0\n",
    "skempi2_avg['ddG_bind_std'].fillna(0, inplace=True)\n",
    "\n",
    "print(f\"Number of cases measured with multiple methods with stds > 1: {len(skempi2_avg.loc[skempi2_avg['ddG_bind_std']>1])} ({round(len(skempi2_avg.loc[skempi2_avg['ddG_bind_std']>1])/origianl_skempi_len*100, 2)}% of the dataset), {len(skempi2_avg.loc[skempi2_avg['ddG_bind_std']>1]['PDB_ID'].unique())} unique PDB structures\")\n",
    "\n",
    "# If std is bigger than 1, drop the case\n",
    "skempi2_avg = skempi2_avg.loc[skempi2_avg['ddG_bind_std']<1]\n",
    "skempi2_avg.drop_duplicates(subset=['#Pdb', 'Mutation(s)_PDB', 'ddG_bind_mean'], inplace=True, ignore_index=True) # 6171\n",
    "\n",
    "print(f\"Final dataset size: {len(skempi2_avg)} cases\")\n",
    "\n",
    "# Add chain identifiers as a separate column -- needed for mut- and resfiles naming\n",
    "\n",
    "skempi2_avg['LChains'] = skempi2_avg['#Pdb'].str.split(\"_\").str[1]\n",
    "skempi2_avg['RChains'] = skempi2_avg['#Pdb'].str.split(\"_\").str[2]\n",
    "skempi2_avg[\"Chains\"] = skempi2_avg[\"LChains\"].astype(str) + skempi2_avg[\"RChains\"].astype(str)\n",
    "\n",
    "# Add index as a column and form a case ID from the number and the PDB\n",
    "skempi2_avg['index'] = skempi2_avg.index.tolist()\n",
    "skempi2_avg['case_ID'] = skempi2_avg['index'].astype('str') + '_' + skempi2_avg['PDB_ID']"
   ]
  },
  {
   "cell_type": "markdown",
   "id": "a3405358-ef3d-4fcf-b060-24668b00ed3c",
   "metadata": {},
   "source": [
    "## Step 4: Restructuring the dataframe and saving the final version"
   ]
  },
  {
   "cell_type": "code",
   "execution_count": 15,
   "id": "126fc1f2-de25-4ab8-b39d-d439436dc9bc",
   "metadata": {},
   "outputs": [],
   "source": [
    "# Reorder and rename the columns\n",
    "\n",
    "skempi2_avg = skempi2_avg[['index', 'case_ID', 'PDB_ID', '#Pdb', 'Mutation(s)_PDB', 'Mutation(s)_cleaned',\n",
    "       'iMutation_Location(s)', 'Hold_out_type', 'Hold_out_proteins',\n",
    "       'Affinity_mut (M)', 'Affinity_mut_parsed', 'Affinity_wt (M)',\n",
    "       'Affinity_wt_parsed', 'Reference', 'Protein 1', 'Protein 2',\n",
    "       'Temperature', 'kon_mut (M^(-1)s^(-1))', 'kon_mut_parsed',\n",
    "       'kon_wt (M^(-1)s^(-1))', 'kon_wt_parsed', 'koff_mut (s^(-1))',\n",
    "       'koff_mut_parsed', 'koff_wt (s^(-1))', 'koff_wt_parsed',\n",
    "       'dH_mut (kcal mol^(-1))', 'dH_wt (kcal mol^(-1))',\n",
    "       'dS_mut (cal mol^(-1) K^(-1))', 'dS_wt (cal mol^(-1) K^(-1))', 'Notes',\n",
    "       'Method', 'SKEMPI version', 'no_proper_value', 'multiple_measurements', 'dG_bind_WT',\n",
    "       'dG_bind_MUT', 'ddG_bind_mean', 'LChains', 'RChains', 'Chains']]\n",
    "\n",
    "skempi2_avg.rename(columns={\"ddG_bind_mean\": \"ddG_bind\"}, inplace=True)"
   ]
  },
  {
   "cell_type": "code",
   "execution_count": 16,
   "id": "90438ec5-ca89-4be0-ae82-67226aa2260e",
   "metadata": {},
   "outputs": [],
   "source": [
    "# Save the new filtered dataframe\n",
    "\n",
    "skempi2_avg.to_csv('/groups/sbinlab/panf/SKEMPIv2_benchmark/skempi2_final.csv', index=False)"
   ]
  },
  {
   "cell_type": "markdown",
   "id": "704c255f-c773-4016-bb24-26f4134232a5",
   "metadata": {},
   "source": [
    "## Bits and pieces (ignore)"
   ]
  },
  {
   "cell_type": "code",
   "execution_count": 17,
   "id": "88f5ef29-3a45-47a8-8495-9303cf0a1bfa",
   "metadata": {},
   "outputs": [
    {
     "data": {
      "text/html": [
       "<div>\n",
       "<style scoped>\n",
       "    .dataframe tbody tr th:only-of-type {\n",
       "        vertical-align: middle;\n",
       "    }\n",
       "\n",
       "    .dataframe tbody tr th {\n",
       "        vertical-align: top;\n",
       "    }\n",
       "\n",
       "    .dataframe thead th {\n",
       "        text-align: right;\n",
       "    }\n",
       "</style>\n",
       "<table border=\"1\" class=\"dataframe\">\n",
       "  <thead>\n",
       "    <tr style=\"text-align: right;\">\n",
       "      <th></th>\n",
       "      <th>PDB_ID</th>\n",
       "      <th>Chains</th>\n",
       "      <th>0</th>\n",
       "    </tr>\n",
       "  </thead>\n",
       "  <tbody>\n",
       "    <tr>\n",
       "      <th>145</th>\n",
       "      <td>2C5D</td>\n",
       "      <td>ABCD</td>\n",
       "      <td>19</td>\n",
       "    </tr>\n",
       "    <tr>\n",
       "      <th>146</th>\n",
       "      <td>2C5D</td>\n",
       "      <td>AC</td>\n",
       "      <td>16</td>\n",
       "    </tr>\n",
       "    <tr>\n",
       "      <th>262</th>\n",
       "      <td>3SE3</td>\n",
       "      <td>BA</td>\n",
       "      <td>47</td>\n",
       "    </tr>\n",
       "    <tr>\n",
       "      <th>263</th>\n",
       "      <td>3SE3</td>\n",
       "      <td>BC</td>\n",
       "      <td>2</td>\n",
       "    </tr>\n",
       "    <tr>\n",
       "      <th>264</th>\n",
       "      <td>3SE4</td>\n",
       "      <td>BA</td>\n",
       "      <td>18</td>\n",
       "    </tr>\n",
       "    <tr>\n",
       "      <th>265</th>\n",
       "      <td>3SE4</td>\n",
       "      <td>BC</td>\n",
       "      <td>17</td>\n",
       "    </tr>\n",
       "  </tbody>\n",
       "</table>\n",
       "</div>"
      ],
      "text/plain": [
       "    PDB_ID Chains   0\n",
       "145   2C5D   ABCD  19\n",
       "146   2C5D     AC  16\n",
       "262   3SE3     BA  47\n",
       "263   3SE3     BC   2\n",
       "264   3SE4     BA  18\n",
       "265   3SE4     BC  17"
      ]
     },
     "execution_count": 17,
     "metadata": {},
     "output_type": "execute_result"
    }
   ],
   "source": [
    "dif_chains = skempi2_avg[['PDB_ID', 'Chains']].groupby(['PDB_ID', 'Chains']).size().reset_index()\n",
    "s = dif_chains.groupby(['PDB_ID']).size().reset_index()\n",
    "s.loc[s[0]>1]\n",
    "dif_chains.loc[dif_chains['PDB_ID'].isin(['2C5D', '3SE3', '3SE4'])]"
   ]
  },
  {
   "cell_type": "code",
   "execution_count": 18,
   "id": "6414b474-0c69-45e1-8c26-5f07cec09ed1",
   "metadata": {},
   "outputs": [],
   "source": [
    "# skempi2 = pd.read_csv('/groups/sbinlab/panf/SKEMPIv2_benchmark/skempi_v2.csv', sep=';')\n",
    "# skempi2['PDB_ID'] = skempi2['#Pdb'].str.split('_').str[0]\n",
    "# skempi2['index'] = skempi2.index.tolist()\n",
    "# skempi2['case_ID'] = skempi2['index'].astype('str') + '_' + skempi2['PDB_ID']\n",
    "#skempi2.to_csv('/groups/sbinlab/panf/SKEMPIv2/skempi2_mesure_mean.csv', index=False)"
   ]
  },
  {
   "cell_type": "code",
   "execution_count": 19,
   "id": "830a20b0-6c95-4063-93af-264858d60ab2",
   "metadata": {},
   "outputs": [],
   "source": [
    "nick_pdbs = ['1JTG', '5E9D', '3SZK', '3BN9', '2J0T', '1KTZ', '3SGB', '3MZG', '1DAN', '1VFB', '1OGA']"
   ]
  },
  {
   "cell_type": "code",
   "execution_count": 20,
   "id": "e8926ab4-0844-4e7f-a70a-89a283229dd4",
   "metadata": {},
   "outputs": [
    {
     "data": {
      "text/html": [
       "<div>\n",
       "<style scoped>\n",
       "    .dataframe tbody tr th:only-of-type {\n",
       "        vertical-align: middle;\n",
       "    }\n",
       "\n",
       "    .dataframe tbody tr th {\n",
       "        vertical-align: top;\n",
       "    }\n",
       "\n",
       "    .dataframe thead th {\n",
       "        text-align: right;\n",
       "    }\n",
       "</style>\n",
       "<table border=\"1\" class=\"dataframe\">\n",
       "  <thead>\n",
       "    <tr style=\"text-align: right;\">\n",
       "      <th></th>\n",
       "      <th>index</th>\n",
       "      <th>#Pdb</th>\n",
       "      <th>Mutation(s)_PDB</th>\n",
       "      <th>Mutation(s)_cleaned</th>\n",
       "      <th>iMutation_Location(s)</th>\n",
       "      <th>Hold_out_type</th>\n",
       "      <th>Hold_out_proteins</th>\n",
       "      <th>Affinity_mut (M)</th>\n",
       "      <th>Affinity_mut_parsed</th>\n",
       "      <th>Affinity_wt (M)</th>\n",
       "      <th>...</th>\n",
       "      <th>dS_mut (cal mol^(-1) K^(-1))</th>\n",
       "      <th>dS_wt (cal mol^(-1) K^(-1))</th>\n",
       "      <th>Notes</th>\n",
       "      <th>Method</th>\n",
       "      <th>SKEMPI version</th>\n",
       "      <th>PDB_ID</th>\n",
       "      <th>no_proper_value</th>\n",
       "      <th>dG_bind_WT</th>\n",
       "      <th>dG_bind_MUT</th>\n",
       "      <th>ddG_bind</th>\n",
       "    </tr>\n",
       "  </thead>\n",
       "  <tbody>\n",
       "    <tr>\n",
       "      <th>362</th>\n",
       "      <td>362</td>\n",
       "      <td>1VFB_AB_C</td>\n",
       "      <td>YB101A</td>\n",
       "      <td>YB101A</td>\n",
       "      <td>COR</td>\n",
       "      <td>AB/AG</td>\n",
       "      <td>AB/AG</td>\n",
       "      <td>n.b</td>\n",
       "      <td>NaN</td>\n",
       "      <td>2E-08</td>\n",
       "      <td>...</td>\n",
       "      <td>NaN</td>\n",
       "      <td>NaN</td>\n",
       "      <td>NaN</td>\n",
       "      <td>SPR</td>\n",
       "      <td>2</td>\n",
       "      <td>1VFB</td>\n",
       "      <td>True</td>\n",
       "      <td>-10.498011</td>\n",
       "      <td>NaN</td>\n",
       "      <td>NaN</td>\n",
       "    </tr>\n",
       "    <tr>\n",
       "      <th>631</th>\n",
       "      <td>631</td>\n",
       "      <td>2J0T_A_D</td>\n",
       "      <td>TD2R,VD4I</td>\n",
       "      <td>TD2R,VD4I</td>\n",
       "      <td>COR,RIM</td>\n",
       "      <td>NaN</td>\n",
       "      <td>2J0T_A_D</td>\n",
       "      <td>n.b</td>\n",
       "      <td>NaN</td>\n",
       "      <td>4E-10</td>\n",
       "      <td>...</td>\n",
       "      <td>NaN</td>\n",
       "      <td>NaN</td>\n",
       "      <td>NaN</td>\n",
       "      <td>IAFL</td>\n",
       "      <td>2</td>\n",
       "      <td>2J0T</td>\n",
       "      <td>True</td>\n",
       "      <td>-12.814660</td>\n",
       "      <td>NaN</td>\n",
       "      <td>NaN</td>\n",
       "    </tr>\n",
       "    <tr>\n",
       "      <th>2129</th>\n",
       "      <td>2129</td>\n",
       "      <td>1VFB_AB_C</td>\n",
       "      <td>YB101A</td>\n",
       "      <td>YB101A</td>\n",
       "      <td>COR</td>\n",
       "      <td>AB/AG</td>\n",
       "      <td>AB/AG</td>\n",
       "      <td>n.b</td>\n",
       "      <td>NaN</td>\n",
       "      <td>1.25E-08</td>\n",
       "      <td>...</td>\n",
       "      <td>NaN</td>\n",
       "      <td>NaN</td>\n",
       "      <td>NaN</td>\n",
       "      <td>SPR</td>\n",
       "      <td>2</td>\n",
       "      <td>1VFB</td>\n",
       "      <td>True</td>\n",
       "      <td>-10.776341</td>\n",
       "      <td>NaN</td>\n",
       "      <td>NaN</td>\n",
       "    </tr>\n",
       "  </tbody>\n",
       "</table>\n",
       "<p>3 rows × 35 columns</p>\n",
       "</div>"
      ],
      "text/plain": [
       "      index       #Pdb Mutation(s)_PDB Mutation(s)_cleaned  \\\n",
       "362     362  1VFB_AB_C          YB101A              YB101A   \n",
       "631     631   2J0T_A_D       TD2R,VD4I           TD2R,VD4I   \n",
       "2129   2129  1VFB_AB_C          YB101A              YB101A   \n",
       "\n",
       "     iMutation_Location(s) Hold_out_type Hold_out_proteins Affinity_mut (M)  \\\n",
       "362                    COR         AB/AG             AB/AG              n.b   \n",
       "631                COR,RIM           NaN          2J0T_A_D              n.b   \n",
       "2129                   COR         AB/AG             AB/AG              n.b   \n",
       "\n",
       "      Affinity_mut_parsed Affinity_wt (M)  ...  dS_mut (cal mol^(-1) K^(-1))  \\\n",
       "362                   NaN           2E-08  ...                           NaN   \n",
       "631                   NaN           4E-10  ...                           NaN   \n",
       "2129                  NaN        1.25E-08  ...                           NaN   \n",
       "\n",
       "     dS_wt (cal mol^(-1) K^(-1)) Notes Method SKEMPI version  PDB_ID  \\\n",
       "362                          NaN   NaN    SPR              2    1VFB   \n",
       "631                          NaN   NaN   IAFL              2    2J0T   \n",
       "2129                         NaN   NaN    SPR              2    1VFB   \n",
       "\n",
       "      no_proper_value  dG_bind_WT  dG_bind_MUT ddG_bind  \n",
       "362              True  -10.498011          NaN      NaN  \n",
       "631              True  -12.814660          NaN      NaN  \n",
       "2129             True  -10.776341          NaN      NaN  \n",
       "\n",
       "[3 rows x 35 columns]"
      ]
     },
     "execution_count": 20,
     "metadata": {},
     "output_type": "execute_result"
    }
   ],
   "source": [
    "skempi2.loc[(skempi2['#Pdb'].str.split(\"_\").str[0].isin(nick_pdbs))&(skempi2['ddG_bind'].isna())]"
   ]
  },
  {
   "cell_type": "code",
   "execution_count": 24,
   "id": "7b22fac0-91b4-45e6-9e0b-29bf6e3153d5",
   "metadata": {},
   "outputs": [],
   "source": [
    "nick_pdbs_df = skempi2_avg.loc[skempi2_avg['PDB_ID'].isin(nick_pdbs)]"
   ]
  },
  {
   "cell_type": "code",
   "execution_count": 30,
   "id": "9c9c2ff6-2e05-4e59-b50b-33a23425b08a",
   "metadata": {},
   "outputs": [
    {
     "data": {
      "text/plain": [
       "array(['1VFB_AB_C', '2J0T_A_D', '1KTZ_A_B', '1JTG_A_B', '3BN9_B_CD',\n",
       "       '3MZG_A_B', '1DAN_HL_UT', '3SGB_E_I', '1OGA_ABC_DE', '5E9D_AB_CDE',\n",
       "       '3SZK_AB_C'], dtype=object)"
      ]
     },
     "execution_count": 30,
     "metadata": {},
     "output_type": "execute_result"
    }
   ],
   "source": [
    "nick_pdbs_df['#Pdb'].unique()"
   ]
  },
  {
   "cell_type": "code",
   "execution_count": 21,
   "id": "a201905a-3490-43cb-9eb9-d0d8e3a34f71",
   "metadata": {},
   "outputs": [],
   "source": [
    "# FOR FUTUTRE ANALYSIS: No binding detected, I would guess predictions should be >15 kcal/mol\n",
    "# skempi2_filt.loc[skempi2_filt['Affinity_mut (M)']=='n.b']\n",
    "# skempi2.loc[skempi2['Affinity_mut (M)'] == 'n.b', 'dG_bind_MUT'] = 100"
   ]
  }
 ],
 "metadata": {
  "kernelspec": {
   "display_name": "Python 3 (ipykernel)",
   "language": "python",
   "name": "python3"
  },
  "language_info": {
   "codemirror_mode": {
    "name": "ipython",
    "version": 3
   },
   "file_extension": ".py",
   "mimetype": "text/x-python",
   "name": "python",
   "nbconvert_exporter": "python",
   "pygments_lexer": "ipython3",
   "version": "3.10.14"
  }
 },
 "nbformat": 4,
 "nbformat_minor": 5
}
