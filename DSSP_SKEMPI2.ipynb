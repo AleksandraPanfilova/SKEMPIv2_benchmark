{
 "cells": [
  {
   "cell_type": "markdown",
   "id": "5fa51ded-93da-4a30-9c13-183644d5503a",
   "metadata": {},
   "source": [
    "## DSSP assign SKEMPI 2"
   ]
  },
  {
   "cell_type": "code",
   "execution_count": null,
   "id": "6f7e41ee-2f8b-421b-96f7-d7de82a64298",
   "metadata": {},
   "outputs": [],
   "source": []
  }
 ],
 "metadata": {
  "kernelspec": {
   "display_name": "Python 3 (ipykernel)",
   "language": "python",
   "name": "python3"
  },
  "language_info": {
   "codemirror_mode": {
    "name": "ipython",
    "version": 3
   },
   "file_extension": ".py",
   "mimetype": "text/x-python",
   "name": "python",
   "nbconvert_exporter": "python",
   "pygments_lexer": "ipython3",
   "version": "3.10.14"
  }
 },
 "nbformat": 4,
 "nbformat_minor": 5
}
