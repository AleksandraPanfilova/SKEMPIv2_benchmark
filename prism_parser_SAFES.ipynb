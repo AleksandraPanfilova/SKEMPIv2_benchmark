{
 "cells": [
  {
   "cell_type": "code",
   "execution_count": 3,
   "id": "0eb1cd3c-916d-4084-9ef3-46980935adae",
   "metadata": {},
   "outputs": [],
   "source": [
    "import sys\n",
    "sys.path.append('/groups/sbinlab/software/PrismData/')"
   ]
  },
  {
   "cell_type": "code",
   "execution_count": 33,
   "id": "c5d60817-2e99-45ef-b88a-84276a2e85e9",
   "metadata": {},
   "outputs": [],
   "source": [
    "import PrismData\n",
    "import pandas as pd\n",
    "import os\n",
    "import subprocess"
   ]
  },
  {
   "cell_type": "code",
   "execution_count": 16,
   "id": "b2aac2a0-702d-41eb-a2ca-2b5ec9f3333d",
   "metadata": {},
   "outputs": [],
   "source": [
    "def read_from_prism(prismfile):\n",
    "    parser = PrismData.PrismParser()\n",
    "    dataframe = parser.read(prismfile).dataframe\n",
    "    meta_data = parser.read_header(prismfile)\n",
    "    return meta_data, dataframe"
   ]
  },
  {
   "cell_type": "code",
   "execution_count": 28,
   "id": "2c7d0262-3d74-4938-8a1e-70dfb2cb540b",
   "metadata": {},
   "outputs": [],
   "source": [
    "pdb_list = ['1JTG', '5E9D', '3SZK', '3BN9', '2J0T', '1KTZ', '3SGB', '3MZG', '1DAN', '1VFB', '1OGA', '1PPF', '1AO7', '1CHO', '1R0R', '1MHP', '3HFM', '1KNE', '2JEL', '2FTL', '1IAR']"
   ]
  },
  {
   "cell_type": "code",
   "execution_count": 30,
   "id": "f78051de-0931-4636-b6e4-6fcca22e1650",
   "metadata": {},
   "outputs": [
    {
     "name": "stdout",
     "output_type": "stream",
     "text": [
      "1JTG\n",
      "5E9D\n"
     ]
    },
    {
     "name": "stderr",
     "output_type": "stream",
     "text": [
      "/groups/sbinlab/software/PrismData/PrismData.py:71: FutureWarning: The 'delim_whitespace' keyword in pd.read_csv is deprecated and will be removed in a future version. Use ``sep='\\s+'`` instead\n",
      "  dataframe = pd.read_csv(filename, delim_whitespace=True, comment='#', header=0,\n",
      "/groups/sbinlab/software/PrismData/PrismData.py:71: FutureWarning: The 'delim_whitespace' keyword in pd.read_csv is deprecated and will be removed in a future version. Use ``sep='\\s+'`` instead\n",
      "  dataframe = pd.read_csv(filename, delim_whitespace=True, comment='#', header=0,\n",
      "/groups/sbinlab/software/PrismData/PrismData.py:71: FutureWarning: The 'delim_whitespace' keyword in pd.read_csv is deprecated and will be removed in a future version. Use ``sep='\\s+'`` instead\n",
      "  dataframe = pd.read_csv(filename, delim_whitespace=True, comment='#', header=0,\n",
      "/groups/sbinlab/software/PrismData/PrismData.py:71: FutureWarning: The 'delim_whitespace' keyword in pd.read_csv is deprecated and will be removed in a future version. Use ``sep='\\s+'`` instead\n",
      "  dataframe = pd.read_csv(filename, delim_whitespace=True, comment='#', header=0,\n",
      "/groups/sbinlab/software/PrismData/PrismData.py:71: FutureWarning: The 'delim_whitespace' keyword in pd.read_csv is deprecated and will be removed in a future version. Use ``sep='\\s+'`` instead\n",
      "  dataframe = pd.read_csv(filename, delim_whitespace=True, comment='#', header=0,\n",
      "/groups/sbinlab/software/PrismData/PrismData.py:71: FutureWarning: The 'delim_whitespace' keyword in pd.read_csv is deprecated and will be removed in a future version. Use ``sep='\\s+'`` instead\n",
      "  dataframe = pd.read_csv(filename, delim_whitespace=True, comment='#', header=0,\n"
     ]
    },
    {
     "name": "stdout",
     "output_type": "stream",
     "text": [
      "3SZK\n",
      "3BN9\n",
      "Cannot read the IA csv\n"
     ]
    },
    {
     "name": "stderr",
     "output_type": "stream",
     "text": [
      "/groups/sbinlab/software/PrismData/PrismData.py:71: FutureWarning: The 'delim_whitespace' keyword in pd.read_csv is deprecated and will be removed in a future version. Use ``sep='\\s+'`` instead\n",
      "  dataframe = pd.read_csv(filename, delim_whitespace=True, comment='#', header=0,\n",
      "/groups/sbinlab/software/PrismData/PrismData.py:71: FutureWarning: The 'delim_whitespace' keyword in pd.read_csv is deprecated and will be removed in a future version. Use ``sep='\\s+'`` instead\n",
      "  dataframe = pd.read_csv(filename, delim_whitespace=True, comment='#', header=0,\n",
      "/groups/sbinlab/software/PrismData/PrismData.py:71: FutureWarning: The 'delim_whitespace' keyword in pd.read_csv is deprecated and will be removed in a future version. Use ``sep='\\s+'`` instead\n",
      "  dataframe = pd.read_csv(filename, delim_whitespace=True, comment='#', header=0,\n",
      "/groups/sbinlab/software/PrismData/PrismData.py:71: FutureWarning: The 'delim_whitespace' keyword in pd.read_csv is deprecated and will be removed in a future version. Use ``sep='\\s+'`` instead\n",
      "  dataframe = pd.read_csv(filename, delim_whitespace=True, comment='#', header=0,\n",
      "/groups/sbinlab/software/PrismData/PrismData.py:71: FutureWarning: The 'delim_whitespace' keyword in pd.read_csv is deprecated and will be removed in a future version. Use ``sep='\\s+'`` instead\n",
      "  dataframe = pd.read_csv(filename, delim_whitespace=True, comment='#', header=0,\n",
      "/groups/sbinlab/software/PrismData/PrismData.py:71: FutureWarning: The 'delim_whitespace' keyword in pd.read_csv is deprecated and will be removed in a future version. Use ``sep='\\s+'`` instead\n",
      "  dataframe = pd.read_csv(filename, delim_whitespace=True, comment='#', header=0,\n"
     ]
    },
    {
     "name": "stdout",
     "output_type": "stream",
     "text": [
      "2J0T\n"
     ]
    },
    {
     "name": "stderr",
     "output_type": "stream",
     "text": [
      "/groups/sbinlab/software/PrismData/PrismData.py:71: FutureWarning: The 'delim_whitespace' keyword in pd.read_csv is deprecated and will be removed in a future version. Use ``sep='\\s+'`` instead\n",
      "  dataframe = pd.read_csv(filename, delim_whitespace=True, comment='#', header=0,\n",
      "/groups/sbinlab/software/PrismData/PrismData.py:71: FutureWarning: The 'delim_whitespace' keyword in pd.read_csv is deprecated and will be removed in a future version. Use ``sep='\\s+'`` instead\n",
      "  dataframe = pd.read_csv(filename, delim_whitespace=True, comment='#', header=0,\n",
      "/groups/sbinlab/software/PrismData/PrismData.py:71: FutureWarning: The 'delim_whitespace' keyword in pd.read_csv is deprecated and will be removed in a future version. Use ``sep='\\s+'`` instead\n",
      "  dataframe = pd.read_csv(filename, delim_whitespace=True, comment='#', header=0,\n",
      "/groups/sbinlab/software/PrismData/PrismData.py:71: FutureWarning: The 'delim_whitespace' keyword in pd.read_csv is deprecated and will be removed in a future version. Use ``sep='\\s+'`` instead\n",
      "  dataframe = pd.read_csv(filename, delim_whitespace=True, comment='#', header=0,\n"
     ]
    },
    {
     "name": "stdout",
     "output_type": "stream",
     "text": [
      "1KTZ\n"
     ]
    },
    {
     "name": "stderr",
     "output_type": "stream",
     "text": [
      "/groups/sbinlab/software/PrismData/PrismData.py:71: FutureWarning: The 'delim_whitespace' keyword in pd.read_csv is deprecated and will be removed in a future version. Use ``sep='\\s+'`` instead\n",
      "  dataframe = pd.read_csv(filename, delim_whitespace=True, comment='#', header=0,\n",
      "/groups/sbinlab/software/PrismData/PrismData.py:71: FutureWarning: The 'delim_whitespace' keyword in pd.read_csv is deprecated and will be removed in a future version. Use ``sep='\\s+'`` instead\n",
      "  dataframe = pd.read_csv(filename, delim_whitespace=True, comment='#', header=0,\n",
      "/groups/sbinlab/software/PrismData/PrismData.py:71: FutureWarning: The 'delim_whitespace' keyword in pd.read_csv is deprecated and will be removed in a future version. Use ``sep='\\s+'`` instead\n",
      "  dataframe = pd.read_csv(filename, delim_whitespace=True, comment='#', header=0,\n"
     ]
    },
    {
     "name": "stdout",
     "output_type": "stream",
     "text": [
      "3SGB\n"
     ]
    },
    {
     "name": "stderr",
     "output_type": "stream",
     "text": [
      "/groups/sbinlab/software/PrismData/PrismData.py:71: FutureWarning: The 'delim_whitespace' keyword in pd.read_csv is deprecated and will be removed in a future version. Use ``sep='\\s+'`` instead\n",
      "  dataframe = pd.read_csv(filename, delim_whitespace=True, comment='#', header=0,\n",
      "/groups/sbinlab/software/PrismData/PrismData.py:71: FutureWarning: The 'delim_whitespace' keyword in pd.read_csv is deprecated and will be removed in a future version. Use ``sep='\\s+'`` instead\n",
      "  dataframe = pd.read_csv(filename, delim_whitespace=True, comment='#', header=0,\n"
     ]
    },
    {
     "name": "stdout",
     "output_type": "stream",
     "text": [
      "3MZG\n"
     ]
    },
    {
     "name": "stderr",
     "output_type": "stream",
     "text": [
      "/groups/sbinlab/software/PrismData/PrismData.py:71: FutureWarning: The 'delim_whitespace' keyword in pd.read_csv is deprecated and will be removed in a future version. Use ``sep='\\s+'`` instead\n",
      "  dataframe = pd.read_csv(filename, delim_whitespace=True, comment='#', header=0,\n",
      "/groups/sbinlab/software/PrismData/PrismData.py:71: FutureWarning: The 'delim_whitespace' keyword in pd.read_csv is deprecated and will be removed in a future version. Use ``sep='\\s+'`` instead\n",
      "  dataframe = pd.read_csv(filename, delim_whitespace=True, comment='#', header=0,\n",
      "/groups/sbinlab/software/PrismData/PrismData.py:71: FutureWarning: The 'delim_whitespace' keyword in pd.read_csv is deprecated and will be removed in a future version. Use ``sep='\\s+'`` instead\n",
      "  dataframe = pd.read_csv(filename, delim_whitespace=True, comment='#', header=0,\n",
      "/groups/sbinlab/software/PrismData/PrismData.py:71: FutureWarning: The 'delim_whitespace' keyword in pd.read_csv is deprecated and will be removed in a future version. Use ``sep='\\s+'`` instead\n",
      "  dataframe = pd.read_csv(filename, delim_whitespace=True, comment='#', header=0,\n",
      "/groups/sbinlab/software/PrismData/PrismData.py:71: FutureWarning: The 'delim_whitespace' keyword in pd.read_csv is deprecated and will be removed in a future version. Use ``sep='\\s+'`` instead\n",
      "  dataframe = pd.read_csv(filename, delim_whitespace=True, comment='#', header=0,\n"
     ]
    },
    {
     "name": "stdout",
     "output_type": "stream",
     "text": [
      "1DAN\n"
     ]
    },
    {
     "name": "stderr",
     "output_type": "stream",
     "text": [
      "/groups/sbinlab/software/PrismData/PrismData.py:71: FutureWarning: The 'delim_whitespace' keyword in pd.read_csv is deprecated and will be removed in a future version. Use ``sep='\\s+'`` instead\n",
      "  dataframe = pd.read_csv(filename, delim_whitespace=True, comment='#', header=0,\n",
      "/groups/sbinlab/software/PrismData/PrismData.py:71: FutureWarning: The 'delim_whitespace' keyword in pd.read_csv is deprecated and will be removed in a future version. Use ``sep='\\s+'`` instead\n",
      "  dataframe = pd.read_csv(filename, delim_whitespace=True, comment='#', header=0,\n",
      "/groups/sbinlab/software/PrismData/PrismData.py:71: FutureWarning: The 'delim_whitespace' keyword in pd.read_csv is deprecated and will be removed in a future version. Use ``sep='\\s+'`` instead\n",
      "  dataframe = pd.read_csv(filename, delim_whitespace=True, comment='#', header=0,\n"
     ]
    },
    {
     "name": "stdout",
     "output_type": "stream",
     "text": [
      "1VFB\n"
     ]
    },
    {
     "name": "stderr",
     "output_type": "stream",
     "text": [
      "/groups/sbinlab/software/PrismData/PrismData.py:71: FutureWarning: The 'delim_whitespace' keyword in pd.read_csv is deprecated and will be removed in a future version. Use ``sep='\\s+'`` instead\n",
      "  dataframe = pd.read_csv(filename, delim_whitespace=True, comment='#', header=0,\n",
      "/groups/sbinlab/software/PrismData/PrismData.py:71: FutureWarning: The 'delim_whitespace' keyword in pd.read_csv is deprecated and will be removed in a future version. Use ``sep='\\s+'`` instead\n",
      "  dataframe = pd.read_csv(filename, delim_whitespace=True, comment='#', header=0,\n",
      "/groups/sbinlab/software/PrismData/PrismData.py:71: FutureWarning: The 'delim_whitespace' keyword in pd.read_csv is deprecated and will be removed in a future version. Use ``sep='\\s+'`` instead\n",
      "  dataframe = pd.read_csv(filename, delim_whitespace=True, comment='#', header=0,\n"
     ]
    },
    {
     "name": "stdout",
     "output_type": "stream",
     "text": [
      "1OGA\n"
     ]
    },
    {
     "name": "stderr",
     "output_type": "stream",
     "text": [
      "/groups/sbinlab/software/PrismData/PrismData.py:71: FutureWarning: The 'delim_whitespace' keyword in pd.read_csv is deprecated and will be removed in a future version. Use ``sep='\\s+'`` instead\n",
      "  dataframe = pd.read_csv(filename, delim_whitespace=True, comment='#', header=0,\n",
      "/groups/sbinlab/software/PrismData/PrismData.py:71: FutureWarning: The 'delim_whitespace' keyword in pd.read_csv is deprecated and will be removed in a future version. Use ``sep='\\s+'`` instead\n",
      "  dataframe = pd.read_csv(filename, delim_whitespace=True, comment='#', header=0,\n"
     ]
    },
    {
     "name": "stdout",
     "output_type": "stream",
     "text": [
      "1PPF\n"
     ]
    },
    {
     "name": "stderr",
     "output_type": "stream",
     "text": [
      "/groups/sbinlab/software/PrismData/PrismData.py:71: FutureWarning: The 'delim_whitespace' keyword in pd.read_csv is deprecated and will be removed in a future version. Use ``sep='\\s+'`` instead\n",
      "  dataframe = pd.read_csv(filename, delim_whitespace=True, comment='#', header=0,\n",
      "/groups/sbinlab/software/PrismData/PrismData.py:71: FutureWarning: The 'delim_whitespace' keyword in pd.read_csv is deprecated and will be removed in a future version. Use ``sep='\\s+'`` instead\n",
      "  dataframe = pd.read_csv(filename, delim_whitespace=True, comment='#', header=0,\n"
     ]
    },
    {
     "name": "stdout",
     "output_type": "stream",
     "text": [
      "1AO7\n"
     ]
    },
    {
     "name": "stderr",
     "output_type": "stream",
     "text": [
      "/groups/sbinlab/software/PrismData/PrismData.py:71: FutureWarning: The 'delim_whitespace' keyword in pd.read_csv is deprecated and will be removed in a future version. Use ``sep='\\s+'`` instead\n",
      "  dataframe = pd.read_csv(filename, delim_whitespace=True, comment='#', header=0,\n",
      "/groups/sbinlab/software/PrismData/PrismData.py:71: FutureWarning: The 'delim_whitespace' keyword in pd.read_csv is deprecated and will be removed in a future version. Use ``sep='\\s+'`` instead\n",
      "  dataframe = pd.read_csv(filename, delim_whitespace=True, comment='#', header=0,\n",
      "/groups/sbinlab/software/PrismData/PrismData.py:71: FutureWarning: The 'delim_whitespace' keyword in pd.read_csv is deprecated and will be removed in a future version. Use ``sep='\\s+'`` instead\n",
      "  dataframe = pd.read_csv(filename, delim_whitespace=True, comment='#', header=0,\n",
      "/groups/sbinlab/software/PrismData/PrismData.py:71: FutureWarning: The 'delim_whitespace' keyword in pd.read_csv is deprecated and will be removed in a future version. Use ``sep='\\s+'`` instead\n",
      "  dataframe = pd.read_csv(filename, delim_whitespace=True, comment='#', header=0,\n"
     ]
    },
    {
     "name": "stdout",
     "output_type": "stream",
     "text": [
      "1CHO\n"
     ]
    },
    {
     "name": "stderr",
     "output_type": "stream",
     "text": [
      "/groups/sbinlab/software/PrismData/PrismData.py:71: FutureWarning: The 'delim_whitespace' keyword in pd.read_csv is deprecated and will be removed in a future version. Use ``sep='\\s+'`` instead\n",
      "  dataframe = pd.read_csv(filename, delim_whitespace=True, comment='#', header=0,\n",
      "/groups/sbinlab/software/PrismData/PrismData.py:71: FutureWarning: The 'delim_whitespace' keyword in pd.read_csv is deprecated and will be removed in a future version. Use ``sep='\\s+'`` instead\n",
      "  dataframe = pd.read_csv(filename, delim_whitespace=True, comment='#', header=0,\n"
     ]
    },
    {
     "name": "stdout",
     "output_type": "stream",
     "text": [
      "1R0R\n"
     ]
    },
    {
     "name": "stderr",
     "output_type": "stream",
     "text": [
      "/groups/sbinlab/software/PrismData/PrismData.py:71: FutureWarning: The 'delim_whitespace' keyword in pd.read_csv is deprecated and will be removed in a future version. Use ``sep='\\s+'`` instead\n",
      "  dataframe = pd.read_csv(filename, delim_whitespace=True, comment='#', header=0,\n",
      "/groups/sbinlab/software/PrismData/PrismData.py:71: FutureWarning: The 'delim_whitespace' keyword in pd.read_csv is deprecated and will be removed in a future version. Use ``sep='\\s+'`` instead\n",
      "  dataframe = pd.read_csv(filename, delim_whitespace=True, comment='#', header=0,\n",
      "/groups/sbinlab/software/PrismData/PrismData.py:71: FutureWarning: The 'delim_whitespace' keyword in pd.read_csv is deprecated and will be removed in a future version. Use ``sep='\\s+'`` instead\n",
      "  dataframe = pd.read_csv(filename, delim_whitespace=True, comment='#', header=0,\n",
      "/groups/sbinlab/software/PrismData/PrismData.py:71: FutureWarning: The 'delim_whitespace' keyword in pd.read_csv is deprecated and will be removed in a future version. Use ``sep='\\s+'`` instead\n",
      "  dataframe = pd.read_csv(filename, delim_whitespace=True, comment='#', header=0,\n"
     ]
    },
    {
     "name": "stdout",
     "output_type": "stream",
     "text": [
      "1MHP\n"
     ]
    },
    {
     "name": "stderr",
     "output_type": "stream",
     "text": [
      "/groups/sbinlab/software/PrismData/PrismData.py:71: FutureWarning: The 'delim_whitespace' keyword in pd.read_csv is deprecated and will be removed in a future version. Use ``sep='\\s+'`` instead\n",
      "  dataframe = pd.read_csv(filename, delim_whitespace=True, comment='#', header=0,\n",
      "/groups/sbinlab/software/PrismData/PrismData.py:71: FutureWarning: The 'delim_whitespace' keyword in pd.read_csv is deprecated and will be removed in a future version. Use ``sep='\\s+'`` instead\n",
      "  dataframe = pd.read_csv(filename, delim_whitespace=True, comment='#', header=0,\n",
      "/groups/sbinlab/software/PrismData/PrismData.py:71: FutureWarning: The 'delim_whitespace' keyword in pd.read_csv is deprecated and will be removed in a future version. Use ``sep='\\s+'`` instead\n",
      "  dataframe = pd.read_csv(filename, delim_whitespace=True, comment='#', header=0,\n"
     ]
    },
    {
     "name": "stdout",
     "output_type": "stream",
     "text": [
      "3HFM\n"
     ]
    },
    {
     "name": "stderr",
     "output_type": "stream",
     "text": [
      "/groups/sbinlab/software/PrismData/PrismData.py:71: FutureWarning: The 'delim_whitespace' keyword in pd.read_csv is deprecated and will be removed in a future version. Use ``sep='\\s+'`` instead\n",
      "  dataframe = pd.read_csv(filename, delim_whitespace=True, comment='#', header=0,\n",
      "/groups/sbinlab/software/PrismData/PrismData.py:71: FutureWarning: The 'delim_whitespace' keyword in pd.read_csv is deprecated and will be removed in a future version. Use ``sep='\\s+'`` instead\n",
      "  dataframe = pd.read_csv(filename, delim_whitespace=True, comment='#', header=0,\n",
      "/groups/sbinlab/software/PrismData/PrismData.py:71: FutureWarning: The 'delim_whitespace' keyword in pd.read_csv is deprecated and will be removed in a future version. Use ``sep='\\s+'`` instead\n",
      "  dataframe = pd.read_csv(filename, delim_whitespace=True, comment='#', header=0,\n"
     ]
    },
    {
     "name": "stdout",
     "output_type": "stream",
     "text": [
      "1KNE\n"
     ]
    },
    {
     "name": "stderr",
     "output_type": "stream",
     "text": [
      "/groups/sbinlab/software/PrismData/PrismData.py:71: FutureWarning: The 'delim_whitespace' keyword in pd.read_csv is deprecated and will be removed in a future version. Use ``sep='\\s+'`` instead\n",
      "  dataframe = pd.read_csv(filename, delim_whitespace=True, comment='#', header=0,\n",
      "/groups/sbinlab/software/PrismData/PrismData.py:71: FutureWarning: The 'delim_whitespace' keyword in pd.read_csv is deprecated and will be removed in a future version. Use ``sep='\\s+'`` instead\n",
      "  dataframe = pd.read_csv(filename, delim_whitespace=True, comment='#', header=0,\n",
      "/groups/sbinlab/software/PrismData/PrismData.py:71: FutureWarning: The 'delim_whitespace' keyword in pd.read_csv is deprecated and will be removed in a future version. Use ``sep='\\s+'`` instead\n",
      "  dataframe = pd.read_csv(filename, delim_whitespace=True, comment='#', header=0,\n"
     ]
    },
    {
     "name": "stdout",
     "output_type": "stream",
     "text": [
      "2JEL\n"
     ]
    },
    {
     "name": "stderr",
     "output_type": "stream",
     "text": [
      "/groups/sbinlab/software/PrismData/PrismData.py:71: FutureWarning: The 'delim_whitespace' keyword in pd.read_csv is deprecated and will be removed in a future version. Use ``sep='\\s+'`` instead\n",
      "  dataframe = pd.read_csv(filename, delim_whitespace=True, comment='#', header=0,\n",
      "/groups/sbinlab/software/PrismData/PrismData.py:71: FutureWarning: The 'delim_whitespace' keyword in pd.read_csv is deprecated and will be removed in a future version. Use ``sep='\\s+'`` instead\n",
      "  dataframe = pd.read_csv(filename, delim_whitespace=True, comment='#', header=0,\n",
      "/groups/sbinlab/software/PrismData/PrismData.py:71: FutureWarning: The 'delim_whitespace' keyword in pd.read_csv is deprecated and will be removed in a future version. Use ``sep='\\s+'`` instead\n",
      "  dataframe = pd.read_csv(filename, delim_whitespace=True, comment='#', header=0,\n"
     ]
    },
    {
     "name": "stdout",
     "output_type": "stream",
     "text": [
      "2FTL\n"
     ]
    },
    {
     "name": "stderr",
     "output_type": "stream",
     "text": [
      "/groups/sbinlab/software/PrismData/PrismData.py:71: FutureWarning: The 'delim_whitespace' keyword in pd.read_csv is deprecated and will be removed in a future version. Use ``sep='\\s+'`` instead\n",
      "  dataframe = pd.read_csv(filename, delim_whitespace=True, comment='#', header=0,\n",
      "/groups/sbinlab/software/PrismData/PrismData.py:71: FutureWarning: The 'delim_whitespace' keyword in pd.read_csv is deprecated and will be removed in a future version. Use ``sep='\\s+'`` instead\n",
      "  dataframe = pd.read_csv(filename, delim_whitespace=True, comment='#', header=0,\n",
      "/groups/sbinlab/software/PrismData/PrismData.py:71: FutureWarning: The 'delim_whitespace' keyword in pd.read_csv is deprecated and will be removed in a future version. Use ``sep='\\s+'`` instead\n",
      "  dataframe = pd.read_csv(filename, delim_whitespace=True, comment='#', header=0,\n"
     ]
    },
    {
     "name": "stdout",
     "output_type": "stream",
     "text": [
      "1IAR\n"
     ]
    },
    {
     "name": "stderr",
     "output_type": "stream",
     "text": [
      "/groups/sbinlab/software/PrismData/PrismData.py:71: FutureWarning: The 'delim_whitespace' keyword in pd.read_csv is deprecated and will be removed in a future version. Use ``sep='\\s+'`` instead\n",
      "  dataframe = pd.read_csv(filename, delim_whitespace=True, comment='#', header=0,\n",
      "/groups/sbinlab/software/PrismData/PrismData.py:71: FutureWarning: The 'delim_whitespace' keyword in pd.read_csv is deprecated and will be removed in a future version. Use ``sep='\\s+'`` instead\n",
      "  dataframe = pd.read_csv(filename, delim_whitespace=True, comment='#', header=0,\n"
     ]
    }
   ],
   "source": [
    "# Define path names \n",
    "xtal_path = '/groups/sbinlab/panf/SKEMPIv2_benchmark/cartesian_runs_folder/'\n",
    "af2_path = '/groups/sbinlab/zqt390/Thesis_Project/af2_files/'\n",
    "af3_path = '/groups/sbinlab/zqt390/Thesis_Project/af3_files/'\n",
    "\n",
    "output_folder = '/groups/sbinlab/panf/SKEMPIv2_benchmark/SAFES_prisms'\n",
    "\n",
    "for pdb_id in pdb_list:\n",
    "\n",
    "    print(pdb_id)\n",
    "\n",
    "    # Construct file paths\n",
    "    xtal = os.path.join(xtal_path, pdb_id, 'output', f'prism_rosetta_XXX_{pdb_id}.txt')\n",
    "    xtal_IA = os.path.join(xtal_path, pdb_id, 'output', f'{pdb_id}_full_interface_IAM_single_load.csv')\n",
    "\n",
    "    af2 = os.path.join(af2_path, f'output_{pdb_id}', 'output', f'prism_rosetta_XXX_{pdb_id}_af2.txt')\n",
    "    af2_IA = os.path.join(af2_path, f'output_{pdb_id}', 'output', f'{pdb_id}_IAM.csv')\n",
    "    \n",
    "    af3 = os.path.join(af3_path, f'output_{pdb_id}', 'output', f'prism_rosetta_XXX_{pdb_id}_af3.txt')\n",
    "    af3_IA = os.path.join(af3_path, f'output_{pdb_id}', 'output', f'{pdb_id}_IAM.csv')\n",
    "\n",
    "    path_pairs = {'xtal': (xtal, xtal_IA),\n",
    "                  'af2': (af2, af2_IA),\n",
    "                  'af3': (af3, af3_IA)}\n",
    "\n",
    "    # Write IA.csvs as prism files using the prism headers from cartesian runs\n",
    "    for pair in path_pairs.keys():\n",
    "\n",
    "        # Read pipeline output prism file's metadata\n",
    "        metadata = read_from_prism(path_pairs[pair][0])[0]\n",
    "\n",
    "        # Add info about two new columns (InterfaceAnalyzer scores and stds)\n",
    "        metadata['columns']['mean_ddG_infc'] = 'mean InterfaceAnalyzer ddG values (mean((MUT-mean(WT))/2.9) kcal/mol)'\n",
    "        metadata['columns']['std_ddG_infc'] = 'std InterfaceAnalyzer ddG values (mean((MUT-mean(WT))/2.9) kcal/mol)'\n",
    "\n",
    "        # Construct an output file name and add it to the metadata\n",
    "        metadata['filename'] = f'prism_rosetta_XXX_{pdb_id}_cartIA_{pair}.txt'\n",
    "\n",
    "        # Read the classic pipeline + IA csv\n",
    "        try:\n",
    "            ia = pd.read_csv(path_pairs[pair][1])\n",
    "        except:\n",
    "            print('Cannot read the IA csv')\n",
    "            continue\n",
    "        \n",
    "        prismdata = PrismData.VariantData(metadata=metadata, dataframe=ia)\n",
    "        prismdata.check()\n",
    "\n",
    "        pp = PrismData.PrismParser()\n",
    "        pp.write(os.path.join(output_folder, metadata['filename']), prismdata)"
   ]
  },
  {
   "cell_type": "code",
   "execution_count": 35,
   "id": "e8213003-8511-40e6-880e-6485f541e13e",
   "metadata": {},
   "outputs": [],
   "source": [
    "pdb_list_no_3BN9 = ['1JTG', '5E9D', '3SZK', '2J0T', '1KTZ', '3SGB', '3MZG', '1DAN', '1VFB', '1OGA', '1PPF', '1AO7', '1CHO', '1R0R', '1MHP', '3HFM', '1KNE', '2JEL', '2FTL', '1IAR']"
   ]
  },
  {
   "cell_type": "code",
   "execution_count": 36,
   "id": "9f647684-5cde-41dd-973e-00ed85b2debe",
   "metadata": {},
   "outputs": [
    {
     "name": "stdout",
     "output_type": "stream",
     "text": [
      "WARNING: There are more alignments for 3SZK_af2 with same scores (try verbose). Sores: [2225. 2225.] (list capped at 10)\n",
      "WARNING: There are more alignments for 3SZK_af3 with same scores (try verbose). Sores: [2225. 2225.] (list capped at 10)\n"
     ]
    }
   ],
   "source": [
    "for pdb_id in pdb_list_no_3BN9:\n",
    "    subprocess.run([\"python3\", \"/groups/sbinlab/software/PrismData/PrismData.py\", \"--merge\", os.path.join(output_folder, 'merged', f\"prism_rosetta_XXX_{pdb_id}_xtal_af2_3.txt\"), os.path.join(output_folder, f\"prism_rosetta_XXX_{pdb_id}_cartIA_xtal.txt\"), os.path.join(output_folder, f\"prism_rosetta_XXX_{pdb_id}_cartIA_af2.txt\"), os.path.join(output_folder, f\"prism_rosetta_XXX_{pdb_id}_cartIA_af3.txt\")])"
   ]
  },
  {
   "cell_type": "code",
   "execution_count": 32,
   "id": "472ece06-4844-4a67-ad43-c61b317cfa0b",
   "metadata": {},
   "outputs": [
    {
     "data": {
      "text/plain": [
       "dict_keys(['xtal', 'af2', 'af3'])"
      ]
     },
     "execution_count": 32,
     "metadata": {},
     "output_type": "execute_result"
    }
   ],
   "source": [
    "path_pairs.keys()"
   ]
  },
  {
   "cell_type": "code",
   "execution_count": null,
   "id": "446bf911-4499-4df1-bfe2-58a43d7b3ca4",
   "metadata": {},
   "outputs": [],
   "source": [
    "subprocess.run([\"python3\", \"/groups/sbinlab/software/PrismData/PrismData.py\", \"--merge\", os.path.join(output_folder, 'merged', f\"prism_rosetta_XXX_{pdb_id}_xtal_af2_3.txt\"), os.path.join(output_folder, f\"prism_rosetta_XXX_{pdb_id}_cartIA_xtal.txt\"), os.path.join(output_folder, f\"prism_rosetta_XXX_{pdb_id}_cartIA_af2.txt\"), os.path.join(output_folder, f\"prism_rosetta_XXX_{pdb_id}_cartIA_af3.txt\")])"
   ]
  },
  {
   "cell_type": "code",
   "execution_count": null,
   "id": "7361a0e3-1b13-4ee8-8f64-b7af31fb22ac",
   "metadata": {},
   "outputs": [],
   "source": []
  }
 ],
 "metadata": {
  "kernelspec": {
   "display_name": "Python 3 (ipykernel)",
   "language": "python",
   "name": "python3"
  },
  "language_info": {
   "codemirror_mode": {
    "name": "ipython",
    "version": 3
   },
   "file_extension": ".py",
   "mimetype": "text/x-python",
   "name": "python",
   "nbconvert_exporter": "python",
   "pygments_lexer": "ipython3",
   "version": "3.10.14"
  }
 },
 "nbformat": 4,
 "nbformat_minor": 5
}
