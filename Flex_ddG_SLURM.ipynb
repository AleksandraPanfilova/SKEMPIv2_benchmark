{
 "cells": [
  {
   "cell_type": "code",
   "execution_count": 3,
   "id": "2b06f176",
   "metadata": {},
   "outputs": [],
   "source": [
    "import os\n",
    "import subprocess"
   ]
  },
  {
   "cell_type": "code",
   "execution_count": 1,
   "id": "bce59070-c998-4e58-9190-9ddd3744ed12",
   "metadata": {},
   "outputs": [],
   "source": [
    "# Repeat the analysis\n",
    "list_rerun = ['6035_1KBH',\n",
    " '6036_1KBH',\n",
    " '6037_1KBH',\n",
    " '6038_1KBH',\n",
    " '6039_1KBH',\n",
    " '6040_1KBH',\n",
    " '6041_1KBH',\n",
    " '6042_1KBH',\n",
    " '6043_1KBH',\n",
    " '6044_1KBH',\n",
    " '6045_1KBH',\n",
    " '6046_1KBH',\n",
    " '6047_1KBH',\n",
    " '6048_1KBH',\n",
    " '6049_1KBH',\n",
    " '6050_1KBH',\n",
    " '6051_1KBH',\n",
    " '6052_1KBH',\n",
    " '6053_1KBH',\n",
    " '6054_1KBH',\n",
    " '6055_1KBH',\n",
    " '6056_1KBH',\n",
    " '6057_1KBH',\n",
    " '6058_1KBH',\n",
    " '6059_1KBH',\n",
    " '6060_1KBH',\n",
    " '6061_1KBH',\n",
    " '6062_1KBH',\n",
    " '6063_1KBH',\n",
    " '6064_1KBH',\n",
    " '6065_1KBH',\n",
    " '6066_1KBH',\n",
    " '6067_1KBH',\n",
    " '6068_1KBH',\n",
    " '6069_1KBH',\n",
    " '6070_1KBH',\n",
    " '6071_1KBH',\n",
    " '6072_1KBH',\n",
    " '6073_1KBH',\n",
    " '6074_1KBH',\n",
    " '6075_1KBH',\n",
    " '6076_1KBH',\n",
    " '6077_1KBH',\n",
    " '6078_1KBH',\n",
    " '6079_1KBH',\n",
    " '6080_1KBH',\n",
    " '6081_1KBH',\n",
    " '6082_1KBH',\n",
    " '6083_1KBH',\n",
    " '6084_1KBH',\n",
    " '6085_1KBH',\n",
    " '6086_1KBH',\n",
    " '6087_1KBH',\n",
    " '6088_1KBH',\n",
    " '6089_1KBH',\n",
    " '6090_1KBH',\n",
    " '6091_1KBH',\n",
    " '6092_1KBH',\n",
    " '6093_1KBH',\n",
    " '6094_1KBH',\n",
    " '6095_1KBH',\n",
    " '6096_1KBH',\n",
    " '6097_1KBH',\n",
    " '6098_1KBH',\n",
    " '6099_1KBH',\n",
    " '6100_1KBH',\n",
    " '6101_1KBH',\n",
    " '6102_1KBH',\n",
    " '6103_1KBH',\n",
    " '6104_1KBH',\n",
    " '6105_1KBH',\n",
    " '6106_1KBH',\n",
    " '6107_1KBH',\n",
    " '6108_1KBH',\n",
    " '6109_1KBH',\n",
    " '6110_1KBH',\n",
    " '6111_1KBH',\n",
    " '6112_1KBH',\n",
    " '6113_1KBH',\n",
    " '6114_1KBH',\n",
    " '6115_1KBH',\n",
    " '6116_1KBH',\n",
    " '6117_1KBH',\n",
    " '6118_1KBH',\n",
    " '6119_1KBH',\n",
    " '6120_1KBH',\n",
    " '6121_2KSO',\n",
    " '6122_2KSO',\n",
    " '6123_2KSO',\n",
    " '6124_2KSO',\n",
    " '6125_2KSO',\n",
    " '6126_2KSO',\n",
    " '6127_2KSO',\n",
    " '6128_2KSO',\n",
    " '6129_2KSO',\n",
    " '6130_2KSO',\n",
    " '6131_2KSO',\n",
    " '6132_2KSO',\n",
    " '6133_2KSO',\n",
    " '6134_2KSO',\n",
    " '6135_2KSO']"
   ]
  },
  {
   "cell_type": "code",
   "execution_count": 4,
   "id": "0c946938",
   "metadata": {},
   "outputs": [
    {
     "name": "stdout",
     "output_type": "stream",
     "text": [
      "Submitted batch job 54064204\n"
     ]
    },
    {
     "data": {
      "text/plain": [
       "0"
      ]
     },
     "execution_count": 4,
     "metadata": {},
     "output_type": "execute_result"
    }
   ],
   "source": [
    "run_dir = '/groups/sbinlab/panf/SKEMPIv2_benchmark/Flex_ddG/'\n",
    "iterations = 10\n",
    "input_dir = '/groups/sbinlab/panf/SKEMPIv2_benchmark/benchmark_inputs/flex_ddg/'\n",
    "# pdb_list_raw = os.listdir(input_dir)\n",
    "\n",
    "pdb_list_raw = list_rerun\n",
    "\n",
    "#pdb_list_raw.remove('main')\n",
    "\n",
    "#output_dir = os.path.join(run_dir, 'Flex_ddG_output')\n",
    "output_dir = os.path.join(run_dir, 'output_classic')\n",
    "\n",
    "partition = 'sbinlab'\n",
    "xml = '/groups/sbinlab/panf/Sandbox/XMLfiles/ddG-backrub.xml'\n",
    "\n",
    "path_to_py_script = '/groups/sbinlab/panf/Sandbox/Code'\n",
    "\n",
    "pdb_list = [f'\"{pdb}\"' for pdb in pdb_list_raw]\n",
    "pdb_list = ' '.join(pdb_list)\n",
    "\n",
    "path_to_sbatch = os.path.join(run_dir, 'flex_ddg_sub.sbatch')\n",
    "with open(path_to_sbatch, 'w') as fp:\n",
    "    fp.write(f'''#!/bin/sh\n",
    "#SBATCH --job-name=SKEMPIv2_FddG_bgfx\n",
    "#SBATCH --time=96:00:00\n",
    "#SBATCH --mem 15GB\n",
    "#SBATCH --array=0-{len(pdb_list_raw)-1}\n",
    "#SBATCH --partition={partition}\n",
    "#SBATCH --constraint=Amelie\n",
    "\n",
    "pdblist=({pdb_list})\n",
    "# launching the python script\n",
    "''')\n",
    "    fp.write((f'python {os.path.join(path_to_py_script, f\"run_DeiC.py\")} '\n",
    "              '${pdblist[$SLURM_ARRAY_TASK_ID]} '\n",
    "              f'--input_dir {input_dir} '\n",
    "              f'--iterations {iterations} '\n",
    "              f'--xml {xml} '\n",
    "              f'--output_dir {output_dir} '))\n",
    "subprocess.call(f'sbatch {path_to_sbatch}', shell=True, cwd=run_dir)"
   ]
  },
  {
   "cell_type": "code",
   "execution_count": null,
   "id": "6daaf9dc-4b96-4a1b-80d9-27a01eb5c7aa",
   "metadata": {},
   "outputs": [],
   "source": [
    "%sx squeue -p sbinlab"
   ]
  },
  {
   "cell_type": "code",
   "execution_count": 1,
   "id": "92dcd49d",
   "metadata": {},
   "outputs": [
    {
     "data": {
      "text/plain": [
       "[\"flatpak: /groups/sbinlab/panf/software/bcl_bin/bcl-4.3.1-Linux-x86_64/libz.so.1: version `ZLIB_1.2.9' not found (required by /lib64/libpng16.so.16)\"]"
      ]
     },
     "execution_count": 1,
     "metadata": {},
     "output_type": "execute_result"
    }
   ],
   "source": [
    "#KILL JOBS WITH IDs STARTIN|G WITH\n",
    "\n",
    "%sx squeue -u panf | grep 48120791 | awk '{print $1}' | xargs -n 1 scancel"
   ]
  },
  {
   "cell_type": "code",
   "execution_count": 7,
   "id": "cb48ba3b",
   "metadata": {},
   "outputs": [],
   "source": [
    "##For benchmark\n",
    "\n",
    "# main = '/groups/sbinlab/panf/Sandbox/input_2VWF/main/'\n",
    "# inputs = '/groups/sbinlab/panf/Sandbox/inputs/'\n",
    "\n",
    "# os.chdir(main)\n",
    "# for folder_main in os.listdir():\n",
    "#     if not folder_main.endswith('.DS_Store'):\n",
    "#         for file in os.listdir(folder_main):\n",
    "#             if file.startswith('Cleaned'):\n",
    "#                     PDB = file\n",
    "#         for file in os.listdir(folder_main):\n",
    "#             if file.endswith('.resfile'):\n",
    "#                 index = file.split('_')[0]\n",
    "#                 src = main + folder_main\n",
    "#                 dst = inputs + index + '_' + folder_main \n",
    "#                 os.makedirs(dst, exist_ok = True)\n",
    "#                 os.symlink(os.path.join(src, file), os.path.join(dst, file))\n",
    "#                 os.symlink(os.path.join(src, PDB), os.path.join(dst, PDB))\n",
    "#     os.chdir(main)"
   ]
  },
  {
   "cell_type": "code",
   "execution_count": 14,
   "id": "92a50538-5862-4107-b5eb-155dd2f43918",
   "metadata": {},
   "outputs": [],
   "source": [
    "# # Generate resfiles for saturation mutagenesis\n",
    "# ## 2VWF\n",
    "# path = '/groups/sbinlab/panf/Sandbox/input_2VWF/main/2VWF'\n",
    "# wt_seq = 'TYVQALFDFDPQEDGELGFRRGDFIHVMDNSDPNWWKGACHGQTGMFPRNYVTAVN'\n",
    "# mutation_chain = 'A'\n",
    "# os.chdir(path)\n",
    "# for (wt_aa, position) in zip(wt_seq, range(1, len(wt_seq)+1)):\n",
    "#     for aa in 'ACDEFGHIKLMNPQRSTVWY':\n",
    "#         case_name = wt_aa + str(position) + aa + '.resfile'\n",
    "#         r = open(case_name,\"w+\")\n",
    "#         r.write(\"NATRO \\r\\nstart \\r\\n\")\n",
    "#         r.write(str(position) + ' ' + mutation_chain + ' ' + 'PIKAA' + ' ' + aa + '\\r\\n')\n",
    "\n",
    "#     r.close()"
   ]
  },
  {
   "cell_type": "code",
   "execution_count": 24,
   "id": "5497d5c9-4fab-45d0-86e5-25a443ff931f",
   "metadata": {},
   "outputs": [],
   "source": [
    "# main = '/groups/sbinlab/panf/Sandbox/input_2VWF/main/'\n",
    "# inputs = '/groups/sbinlab/panf/Sandbox/input_2VWF/'\n",
    "\n",
    "# os.chdir(main)\n",
    "# for folder_main in os.listdir():\n",
    "#     for file in os.listdir(folder_main):\n",
    "#         if file.endswith('.pdb'):\n",
    "#             PDB = file\n",
    "#     for file in os.listdir(folder_main):\n",
    "#         if file.endswith('.resfile'):\n",
    "#             case_name = file.split('.')[0]\n",
    "#             src = main + folder_main\n",
    "#             dst = inputs + case_name\n",
    "#             os.makedirs(dst, exist_ok = True)\n",
    "#             os.symlink(os.path.join(src, file), os.path.join(dst, file))\n",
    "#             os.symlink(os.path.join(src, PDB), os.path.join(dst, PDB))\n",
    "# os.chdir(main)"
   ]
  },
  {
   "cell_type": "code",
   "execution_count": 6,
   "id": "e7316818-19bf-4a2a-b44d-b2abe371e13b",
   "metadata": {},
   "outputs": [],
   "source": [
    "# #Delete all but main dir\n",
    "\n",
    "# import shutil\n",
    "# inputs = '/groups/sbinlab/panf/Sandbox/inputs/'\n",
    "\n",
    "# os.chdir(inputs)\n",
    "# for folder in os.listdir():\n",
    "#     if not folder == 'main':\n",
    "#         shutil.rmtree(folder)"
   ]
  },
  {
   "cell_type": "code",
   "execution_count": 7,
   "id": "d71dbe21-193d-4909-8d1c-4c41613255a4",
   "metadata": {},
   "outputs": [
    {
     "data": {
      "text/plain": [
       "[\"flatpak: /groups/sbinlab/panf/software/bcl_bin/bcl-4.3.1-Linux-x86_64/libz.so.1: version `ZLIB_1.2.9' not found (required by /lib64/libpng16.so.16)\"]"
      ]
     },
     "execution_count": 7,
     "metadata": {},
     "output_type": "execute_result"
    }
   ],
   "source": [
    "# Delete slurm files\n",
    "\n",
    "%sx find . -name '47480953*' -exec rm {} \\;"
   ]
  },
  {
   "cell_type": "code",
   "execution_count": null,
   "id": "4e94b666-9ffc-4dda-b783-23f4621ca8f0",
   "metadata": {},
   "outputs": [],
   "source": [
    "run_dir = '/groups/sbinlab/YOUR_RUN_DIR'\n",
    "input_dir = '/groups/sbinlab/YOUR_INPUT_DIR'\n",
    "pdb_list = os.listdir(input_dir)\n",
    "output_dir = '/groups/sbinlab/YOUR_OUTPUT_DIR'\n",
    "path_to_ROSETTA = '/sbinlab/software/Rosetta_2021_Aug_c7009b3/source/bin/relax.default.linuxgccrelease'\n",
    "partition = 'sbinlab'\n",
    "\n",
    "for pdb in pdb_list:\n",
    "    pdb_path = os.path.join(input_dir, pdb)\n",
    "    path_to_bash = os.path.join(run_dir, (pdb + '.sbatch'))\n",
    "    \n",
    "    with open(path_to_bash, 'w') as fp:\n",
    "        fp.write(f'''#!/bin/sh\n",
    "                #SBATCH --job-name=Woods_relax\n",
    "                #SBATCH --time=60:00:00\n",
    "                #SBATCH --mem 5000\n",
    "                #SBATCH --partition={partition}''')\n",
    "        \n",
    "        fp.write(f'/sbinlab/software/Rosetta_2021_Aug_c7009b3/source/bin/relax.default.linuxgccrelease -in:file {pdb_path} -relax:constrain_relax_to_start_coords 1 -nstruct 10 -out:file:silent {output_dir}_{pdb}.out -out:file:scorefile {output_dir}_{pdb}.sc > {output_dir}_{pdb}.log')\n",
    "        \n",
    "        subprocess.call(f'sbatch {path_to_bash}', shell=True, cwd=run_dir)"
   ]
  },
  {
   "cell_type": "code",
   "execution_count": 48,
   "id": "60870758-bd97-481d-a6fe-78f4e4aa8c15",
   "metadata": {},
   "outputs": [
    {
     "name": "stdout",
     "output_type": "stream",
     "text": [
      "Submitted batch job 47483456\n"
     ]
    },
    {
     "data": {
      "text/plain": [
       "0"
      ]
     },
     "execution_count": 48,
     "metadata": {},
     "output_type": "execute_result"
    }
   ],
   "source": [
    "run_dir = '/groups/sbinlab/panf/SKEMPIv2/'\n",
    "input_dir = os.path.join(run_dir, 'input_pdbs')\n",
    "pdb_list_raw = os.listdir(input_dir)\n",
    "pdb_list_raw.remove('main')\n",
    "\n",
    "pdb_list_raw = ['4021_4OFY', '3617_3SE3']\n",
    "\n",
    "partition = 'sbinlab'\n",
    "\n",
    "pdb_list = [f'\"{pdb}\"' for pdb in pdb_list_raw]\n",
    "pdb_list = ' '.join(pdb_list)\n",
    "\n",
    "path_to_sbatch = os.path.join(run_dir, 'flex_ddg_anal.sbatch')\n",
    "with open(path_to_sbatch, 'w') as fp:\n",
    "    fp.write(f'''#!/bin/sh\n",
    "#SBATCH --job-name=SKEMPIv2_FddG\n",
    "#SBATCH --time=60:00:00\n",
    "#SBATCH --mem 5000\n",
    "#SBATCH --array=0-{len(pdb_list_raw)-1}\n",
    "#SBATCH --partition={partition}\n",
    "\n",
    "pdblist=({pdb_list})\n",
    "conda activate Flex_ddG\n",
    "# launching the python script\n",
    "''')\n",
    "    fp.write((f'python analyze_flex_ddG.py '\n",
    "              '~/SKEMPIv2/Flex_ddG_output' ))\n",
    "subprocess.call(f'sbatch {path_to_sbatch}', shell=True, cwd=run_dir)"
   ]
  },
  {
   "cell_type": "code",
   "execution_count": 38,
   "id": "0a4ec31e-06f6-4b79-ae4e-7ef555bc7616",
   "metadata": {},
   "outputs": [],
   "source": [
    "def rosetta_output_succeeded( potential_struct_dir ):\n",
    "    path_to_rosetta_output = os.path.join( potential_struct_dir, rosetta_output_file_name )\n",
    "    if not os.path.isfile(path_to_rosetta_output):\n",
    "        return False\n",
    "\n",
    "    db3_file = os.path.join( potential_struct_dir, output_database_name )\n",
    "    if not os.path.isfile( db3_file ):\n",
    "        return False\n",
    "\n",
    "    success_line_found = False\n",
    "    no_more_batches_line_found = False\n",
    "    with open( path_to_rosetta_output, 'r' ) as f:\n",
    "        for line in f:\n",
    "            if line.startswith( 'protocols.jd2.JobDistributor' ) and 'reported success in' in line:\n",
    "                success_line_found = True\n",
    "            if line.startswith( 'protocols.jd2.JobDistributor' ) and 'no more batches to process' in line:\n",
    "                no_more_batches_line_found = True\n",
    "\n",
    "    return no_more_batches_line_found and success_line_found"
   ]
  },
  {
   "cell_type": "code",
   "execution_count": 39,
   "id": "ac893066-38d0-43ba-964d-33a485478585",
   "metadata": {},
   "outputs": [],
   "source": [
    "rosetta_output_file_name = 'rosetta.out'\n",
    "output_database_name = 'ddG.db3'"
   ]
  },
  {
   "cell_type": "code",
   "execution_count": 41,
   "id": "4a016b35-852b-446a-849c-ada7b8a17c42",
   "metadata": {},
   "outputs": [
    {
     "data": {
      "text/plain": [
       "True"
      ]
     },
     "execution_count": 41,
     "metadata": {},
     "output_type": "execute_result"
    }
   ],
   "source": [
    "rosetta_output_succeeded('/groups/sbinlab/panf/SKEMPIv2/Flex_ddG_output/4021_4OFY/02')"
   ]
  },
  {
   "cell_type": "code",
   "execution_count": 35,
   "id": "6e07a2a5-d369-465b-b179-3a9f418d1dcd",
   "metadata": {},
   "outputs": [],
   "source": [
    "if rosetta_output_succeeded('/groups/sbinlab/panf/SKEMPIv2/Flex_ddG_output/4021_4OFY/01'):\n",
    "    print('zaebalo_blya')"
   ]
  },
  {
   "cell_type": "code",
   "execution_count": 36,
   "id": "0e1c17be-cf99-43c4-8eac-335ddebe6dc9",
   "metadata": {},
   "outputs": [],
   "source": [
    "path_to_rosetta_output = os.path.join( '/groups/sbinlab/panf/SKEMPIv2/Flex_ddG_output/4021_4OFY/01', rosetta_output_file_name )"
   ]
  }
 ],
 "metadata": {
  "kernelspec": {
   "display_name": "Python 3 (ipykernel)",
   "language": "python",
   "name": "python3"
  },
  "language_info": {
   "codemirror_mode": {
    "name": "ipython",
    "version": 3
   },
   "file_extension": ".py",
   "mimetype": "text/x-python",
   "name": "python",
   "nbconvert_exporter": "python",
   "pygments_lexer": "ipython3",
   "version": "3.10.14"
  }
 },
 "nbformat": 4,
 "nbformat_minor": 5
}
