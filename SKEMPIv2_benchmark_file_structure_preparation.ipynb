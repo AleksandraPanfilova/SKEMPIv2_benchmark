{
 "cells": [
  {
   "cell_type": "markdown",
   "id": "0b8dac31-df86-4c74-9837-42f0045b103e",
   "metadata": {},
   "source": [
    "# SKEMPI 2.0 benchmark: data filtraton and file structure preparation"
   ]
  },
  {
   "cell_type": "code",
   "execution_count": 2,
   "id": "b8f3aae0-7d8f-4e8f-8d89-6bc20a724b42",
   "metadata": {},
   "outputs": [],
   "source": [
    "import pandas as pd\n",
    "import numpy as np\n",
    "from matplotlib import pyplot as plt\n",
    "import re\n",
    "#import Bio.PDB\n",
    "import os\n",
    "import shutil\n",
    "import Bio"
   ]
  },
  {
   "cell_type": "markdown",
   "id": "17be82af-385d-464c-a59b-16044e74394d",
   "metadata": {},
   "source": [
    "'inputs_pdb' is the folder where all case subdirectories are. <br/>\n",
    "Subdirectories are called by case (filtrated SKEMPI dataframe index plus PDB ID) and contain a superlink to the cleaned PDB file in the main directory and a resfile for every case. This structure is important for Flex ddG initiating run_DeiC.py, which is submitted as a SLURM job by Flex_ddG_SLURM.ipynb notebook."
   ]
  },
  {
   "cell_type": "code",
   "execution_count": 1,
   "id": "5cad2180-cdc1-4a8b-84b7-afbc23f7941a",
   "metadata": {},
   "outputs": [
    {
     "ename": "NameError",
     "evalue": "name 'os' is not defined",
     "output_type": "error",
     "traceback": [
      "\u001b[0;31m---------------------------------------------------------------------------\u001b[0m",
      "\u001b[0;31mNameError\u001b[0m                                 Traceback (most recent call last)",
      "Cell \u001b[0;32mIn[1], line 2\u001b[0m\n\u001b[1;32m      1\u001b[0m inputs\u001b[38;5;241m=\u001b[39m\u001b[38;5;124m'\u001b[39m\u001b[38;5;124m/groups/sbinlab/panf/SKEMPIv2_benchmark/pdbs_master\u001b[39m\u001b[38;5;124m'\u001b[39m\n\u001b[0;32m----> 2\u001b[0m main \u001b[38;5;241m=\u001b[39m \u001b[43mos\u001b[49m\u001b[38;5;241m.\u001b[39mpath\u001b[38;5;241m.\u001b[39mjoin(inputs, \u001b[38;5;124m\"\u001b[39m\u001b[38;5;124mPDBs\u001b[39m\u001b[38;5;124m\"\u001b[39m)\n",
      "\u001b[0;31mNameError\u001b[0m: name 'os' is not defined"
     ]
    }
   ],
   "source": [
    "inputs='/groups/sbinlab/panf/SKEMPIv2_benchmark/pdbs_master'\n",
    "main = os.path.join(inputs, \"PDBs\")"
   ]
  },
  {
   "cell_type": "code",
   "execution_count": 5,
   "id": "e74b719d",
   "metadata": {},
   "outputs": [],
   "source": [
    "# Load dataset and get list of mutations in cases and unique PDB list \n",
    "# (for downloading PDBs from PDB website)\n",
    "\n",
    "skempi2 = pd.read_csv('/groups/sbinlab/panf/SKEMPIv2/skempi_v2.csv', sep=';')\n",
    "skempi2.drop_duplicates(inplace=True)\n",
    "\n",
    "#skempi2 = skempi2.loc[~skempi2['Affinity_mut (M)'].str.startswith(('<', '>'))]\n",
    "#skempi2 = skempi2[skempi2['Method'].isin(['ITC', 'SPR', 'FL', 'SP'])].copy().reset_index(drop=True)\n",
    "#skempi2 = skempi2.loc[skempi2['Affinity_mut_parsed']!=skempi2['Affinity_wt_parsed']].reset_index(drop=True)\n",
    "\n",
    "skempi2['dG_bind_MUT'] = 0.001987204 * skempi2['Temperature'].str.extract('(\\d+)'\n",
    "                        ).values.astype(float).reshape(-1) * np.log(skempi2['Affinity_mut_parsed'].values)\n",
    "skempi2['dG_bind_WT'] =  0.001987204 * skempi2['Temperature'].str.extract('(\\d+)'\n",
    "                        ).values.astype(float).reshape(-1) * np.log(skempi2['Affinity_wt_parsed'].values)\n",
    "#skempi2['ddG_bind'] = skempi2['dG_bind_MUT'].values - skempi2['dG_bind_WT'].values\n",
    "\n",
    "groups = skempi2[['#Pdb', 'Mutation(s)_PDB', 'dG_bind_MUT', 'dG_bind_WT']].groupby(['#Pdb', 'Mutation(s)_PDB'])\n",
    "group_mean = groups.mean()\n",
    "group_std = groups.std()\n",
    "group_sizes = groups.size()\n",
    "stds = pd.merge(skempi2, group_std, on=['#Pdb', 'Mutation(s)_PDB'], suffixes=('', '_std'))\n",
    "stds.drop(columns=['dG_bind_MUT', 'dG_bind_WT'], inplace=True)\n",
    "\n",
    "stds['dG_bind_MUT_std'].fillna(0, inplace=True)\n",
    "stds['dG_bind_WT_std'].fillna(0, inplace=True)\n",
    "low_err = stds.loc[((stds['dG_bind_MUT_std']<0.5)&(stds['dG_bind_WT_std']<0.5))].copy()\n",
    "skempi2 = pd.merge(low_err, group_mean, on=['#Pdb', 'Mutation(s)_PDB'])\n",
    "skempi2['ddG_bind'] = skempi2['dG_bind_MUT'].values - skempi2['dG_bind_WT'].values\n",
    "skempi2.drop_duplicates(subset=['#Pdb', 'Mutation(s)_PDB', 'ddG_bind'], inplace=True)\n",
    "skempi2.drop(columns=['dG_bind_MUT_std', 'dG_bind_WT_std'], inplace=True)\n",
    "\n",
    "skempi2['PDB_ID'] = skempi2['#Pdb'].str.split(\"_\").str[0]\n",
    "skempi2['LChains'] = skempi2['#Pdb'].str.split(\"_\").str[1]\n",
    "skempi2['RChains'] = skempi2['#Pdb'].str.split(\"_\").str[2]\n",
    "skempi2[\"Chains\"] = skempi2[\"LChains\"].astype(str) + skempi2[\"RChains\"].astype(str)\n",
    "\n",
    "# Get a list of PDBs for which we use different chains for different entries\n",
    "dif_chains = skempi2[['PDB_ID', 'Chains']].groupby(['PDB_ID', 'Chains']).size().reset_index()\n",
    "dif_chains_counts = dif_chains['PDB_ID'].value_counts()\n",
    "dif_chains_PDBs = dif_chains_counts[dif_chains_counts > 1].reset_index()['PDB_ID'].values.tolist()\n",
    "\n",
    "# Drop those PDBs\n",
    "skempi2 = skempi2.loc[~skempi2['PDB_ID'].isin(dif_chains_PDBs)].reset_index(drop=True)\n",
    "\n",
    "# Alternativery, keep all the chains\n",
    "# for pdb in dif_chains_PDBs:\n",
    "#     lst = set()\n",
    "#     for set_of_chains in dif_chains.loc[dif_chains['PDB_ID']==pdb].Chains:\n",
    "#         lst = lst.union(set(list(set_of_chains)))\n",
    "#     skempi2.loc[skempi2['PDB_ID']==pdb, 'Chains'] = ''.join(list(lst))\n",
    "\n",
    "skempi2['index'] = skempi2.index.tolist()\n",
    "skempi2['case_ID'] = skempi2['index'].astype('str') + '_' + skempi2['PDB_ID']"
   ]
  },
  {
   "cell_type": "code",
   "execution_count": 190,
   "id": "eb3af811-c72f-41b8-a4f8-877e004c2344",
   "metadata": {},
   "outputs": [],
   "source": [
    "#skempi2.to_csv('/groups/sbinlab/panf/SKEMPIv2/skempi2_mesure_mean.csv', index=False)"
   ]
  },
  {
   "cell_type": "code",
   "execution_count": 6,
   "id": "867ac199-e64f-4749-b2a1-d4c4fefeffa9",
   "metadata": {},
   "outputs": [
    {
     "data": {
      "text/plain": [
       "['3SE3', '3SE4', '2C5D']"
      ]
     },
     "execution_count": 6,
     "metadata": {},
     "output_type": "execute_result"
    }
   ],
   "source": [
    "dif_chains_PDBs"
   ]
  },
  {
   "cell_type": "code",
   "execution_count": 177,
   "id": "7a7c89a4-5bd0-4c19-9816-fa6e3268cfa8",
   "metadata": {},
   "outputs": [],
   "source": [
    "skempi2_new = skempi2.drop(columns=['index'])"
   ]
  },
  {
   "cell_type": "code",
   "execution_count": 178,
   "id": "e1c03523-0dec-4a00-b75d-4386c208e6a2",
   "metadata": {},
   "outputs": [],
   "source": [
    "skempi2_old = pd.read_csv('/groups/sbinlab/panf/SKEMPIv2/skempi2_filt.csv')\n",
    "skempi2_old.drop(columns=['Unnamed: 0', 'PDBFileID', 'case_name', 'dG_bind_MUT_std', 'dG_bind_WT_std'], inplace=True)"
   ]
  },
  {
   "cell_type": "code",
   "execution_count": 179,
   "id": "020b2108-5c2c-40be-87b2-1df60ac80323",
   "metadata": {},
   "outputs": [],
   "source": [
    "df_all = pd.merge(skempi2_new, skempi2_old.drop_duplicates(subset=['#Pdb', 'Mutation(s)_PDB', 'ddG_bind']),\n",
    "                  on=['#Pdb', 'Mutation(s)_PDB'], how='left', indicator=True)"
   ]
  },
  {
   "cell_type": "code",
   "execution_count": 180,
   "id": "42268e18-e820-48d0-8183-16066a5755db",
   "metadata": {},
   "outputs": [
    {
     "data": {
      "text/plain": [
       "_merge\n",
       "both          4039\n",
       "left_only     1849\n",
       "right_only       0\n",
       "Name: count, dtype: int64"
      ]
     },
     "execution_count": 180,
     "metadata": {},
     "output_type": "execute_result"
    }
   ],
   "source": [
    "df_all['_merge'].value_counts()"
   ]
  },
  {
   "cell_type": "code",
   "execution_count": 187,
   "id": "8129b300-a149-4d07-a931-c7c7600416e6",
   "metadata": {},
   "outputs": [],
   "source": [
    "new_cases = df_all.loc[df_all['_merge']=='left_only']['case_ID'].tolist()\n",
    "lst_new_cases = open('list_new_cases.txt', 'w+')\n",
    "for new_case in new_cases:\n",
    "    lst_new_cases.write(new_case + '\\r\\n')\n",
    "lst_new_cases.close()"
   ]
  },
  {
   "cell_type": "code",
   "execution_count": 128,
   "id": "a201905a-3490-43cb-9eb9-d0d8e3a34f71",
   "metadata": {},
   "outputs": [],
   "source": [
    "# FOR FUTUTRE ANALYSIS: No binding detected, I would guess predictions should be >15 kcal/mol\n",
    "# skempi2_filt.loc[skempi2_filt['Affinity_mut (M)']=='n.b']\n",
    "# skempi2.loc[skempi2['Affinity_mut (M)'] == 'n.b', 'dG_bind_MUT'] = 100"
   ]
  },
  {
   "cell_type": "code",
   "execution_count": 35,
   "id": "8f79b3ff-9a01-4c78-be12-4900d85504a2",
   "metadata": {},
   "outputs": [],
   "source": [
    "# Get a list of uniqie PDB IDs in the dataset and write it to a file to use with PDB batch_download.sh\n",
    "\n",
    "# PDB_IDs = skempi2['PDB_ID'].unique()\n",
    "# lst = open('list_file.txt', 'w+')\n",
    "# for id in PDB_IDs:\n",
    "#     lst.write(id)\n",
    "#     lst.write(',')\n",
    "# lst.close()"
   ]
  },
  {
   "cell_type": "code",
   "execution_count": 134,
   "id": "1f4ebf92-ff6d-4d74-9a5b-8edd79b099a6",
   "metadata": {},
   "outputs": [],
   "source": [
    "# Remove PDBs that are mot in the dataset after filtration\n",
    "\n",
    "for folder in os.listdir(main):\n",
    "    if not folder in PDB_IDs and not folder == '.ipynb_checkpoints':\n",
    "        shutil.rmtree(os.path.join(main, folder))"
   ]
  },
  {
   "cell_type": "code",
   "execution_count": 36,
   "id": "c5f5f9ef",
   "metadata": {},
   "outputs": [],
   "source": [
    "# CREATE SEPARATE FOLDER FOR EACH UNIQUE PDB_ID IN THE DATASET AND MOVE A .PDB FILE THERE\n",
    "\n",
    "for folder in PDB_IDs:\n",
    "    os.mkdir(os.path.join(main, folder))\n",
    "    path_current = os.path.join(main, (folder + '.pdb'))\n",
    "    path_new = os.path.join(main, folder, (folder + '.pdb'))\n",
    "    shutil.move(path_current, path_new)"
   ]
  },
  {
   "cell_type": "markdown",
   "id": "fef77dbf",
   "metadata": {},
   "source": [
    "## Get resfiles"
   ]
  },
  {
   "cell_type": "markdown",
   "id": "a2f54946",
   "metadata": {},
   "source": [
    "#### Example of resfile:\n",
    "\n",
    "B T58D;A N92A;B T28D;B S57V<br>\n",
    "\n",
    "should become:<br>\n",
    "\n",
    "NATAA<br>\n",
    "start<br>\n",
    "58 B PIKAA D<br>\n",
    "92 A PIKAA A<br>\n",
    "28 B PIKAA D<br>\n",
    "57 B PIKAA V<br>"
   ]
  },
  {
   "cell_type": "code",
   "execution_count": 139,
   "id": "d2392ca9",
   "metadata": {},
   "outputs": [],
   "source": [
    "# Get resfiles, which contain mutation position, chain, type and substitution aa \n",
    "\n",
    "## DOES NOT GIVE CHAINS TO MOVE; WRONG\n",
    "\n",
    "for case_id, mutations in zip(skempi2['case_ID'], skempi2['Mutation(s)_PDB']):\n",
    "    PBD_folder_path = os.path.join(main, case_id.split('_')[1])\n",
    "\n",
    "    # Delete all resfiles\n",
    "    # os.remove(os.path.join(PBD_folder_path, (case_name+'.resfile')))\n",
    "    \n",
    "    r = open(os.path.join(PBD_folder_path, (case_id+'.resfile')),\"w+\")\n",
    "    r.write(\"NATAA \\r\\nstart \\r\\n\")\n",
    "    \n",
    "    for mut in mutations.split(','):\n",
    "        position = mut[2:-1].upper()\n",
    "        chain = mut[1]\n",
    "        aa = mut[-1]\n",
    "        r.write(position + ' ' + chain + ' ' + 'PIKAA' + ' ' + aa + '\\r\\n')\n",
    "    r.close()"
   ]
  },
  {
   "cell_type": "markdown",
   "id": "f71be354",
   "metadata": {},
   "source": [
    "## PDB files cleaning"
   ]
  },
  {
   "cell_type": "code",
   "execution_count": 135,
   "id": "072a0d5c-0be6-4119-bf72-239dfd578483",
   "metadata": {},
   "outputs": [],
   "source": [
    "#For initial pipeline\n",
    "for folder in os.listdir(main):\n",
    "    if not folder.endswith('.ipynb_checkpoints'):\n",
    "        for file in os.listdir(os.path.join(main, folder)):\n",
    "            if file.endswith('.pdb'):\n",
    "                pdb_path = os.path.join(main, folder, file)\n",
    "                PDB_ID = folder\n",
    "                old_pdb = open(pdb_path, 'r')\n",
    "                cleaned_pdb = open(os.path.join(main, folder, ('Cleaned_' + file)), 'w+')\n",
    "                lines = old_pdb.readlines()\n",
    "                chains = skempi2.loc[skempi2['PDB_ID']==PDB_ID, 'Chains'].unique()[0]\n",
    "                chains_sep = list(chains)\n",
    "                for line in lines:\n",
    "                    if line.startswith('ATOM'):\n",
    "                        if line[21] in chains_sep:\n",
    "                            cleaned_pdb.write(line)\n",
    "                cleaned_pdb.close()       "
   ]
  },
  {
   "cell_type": "markdown",
   "id": "e0b8c28e",
   "metadata": {},
   "source": [
    "### Remove 'cleaned' PDBs from folders"
   ]
  },
  {
   "cell_type": "code",
   "execution_count": 78,
   "id": "5d0d5d72",
   "metadata": {},
   "outputs": [],
   "source": [
    "for folder in os.listdir(main):\n",
    "    if not folder.endswith('.ipynb_checkpoints'):\n",
    "        for file in os.listdir(os.path.join(main, folder)):\n",
    "            if file.startswith('Cleaned'):\n",
    "                os.remove(os.path.join(main, folder, file))"
   ]
  },
  {
   "cell_type": "markdown",
   "id": "ae09dde7",
   "metadata": {},
   "source": [
    "## Creating in folder 'input' all required folders with symbolic links to PDBs and resfiles"
   ]
  },
  {
   "cell_type": "code",
   "execution_count": null,
   "id": "02ef64ea-73b2-41ea-905a-4c101c6d9c72",
   "metadata": {},
   "outputs": [],
   "source": [
    "# Clear inputs\n",
    "# for dir in os.listdir(inputs):\n",
    "#     if not dir == 'main':\n",
    "#         shutil.rmtree(os.path.join(inputs, dir))"
   ]
  },
  {
   "cell_type": "code",
   "execution_count": 140,
   "id": "3646c425-8ae1-4004-ae81-c45403f415a8",
   "metadata": {},
   "outputs": [],
   "source": [
    "for folder in os.listdir(main):\n",
    "    if not folder.endswith(('.ipynb_checkpoints')):\n",
    "        for file in os.listdir(os.path.join(main, folder)):\n",
    "            if file.startswith('Cleaned_'):\n",
    "                PDB = file\n",
    "        for file in os.listdir(os.path.join(main, folder)):\n",
    "            if file.endswith('.resfile'):\n",
    "                index = file.split('_')[0]\n",
    "                resfile = file\n",
    "                src = os.path.join(main, folder)\n",
    "                dst = os.path.join(inputs, (index + '_' + folder))\n",
    "                os.makedirs(dst, exist_ok=True)\n",
    "                os.symlink(os.path.join(src, resfile), os.path.join(dst, resfile))\n",
    "                os.symlink(os.path.join(src, PDB), os.path.join(dst, PDB))"
   ]
  },
  {
   "cell_type": "code",
   "execution_count": null,
   "id": "38d9b83d-8115-4c5b-a446-26b378592e33",
   "metadata": {},
   "outputs": [],
   "source": []
  },
  {
   "cell_type": "code",
   "execution_count": null,
   "id": "27aecec7-0832-4779-b01c-08734653f66b",
   "metadata": {},
   "outputs": [],
   "source": []
  }
 ],
 "metadata": {
  "kernelspec": {
   "display_name": "Python 3 (ipykernel)",
   "language": "python",
   "name": "python3"
  },
  "language_info": {
   "codemirror_mode": {
    "name": "ipython",
    "version": 3
   },
   "file_extension": ".py",
   "mimetype": "text/x-python",
   "name": "python",
   "nbconvert_exporter": "python",
   "pygments_lexer": "ipython3",
   "version": "3.8.19"
  }
 },
 "nbformat": 4,
 "nbformat_minor": 5
}
